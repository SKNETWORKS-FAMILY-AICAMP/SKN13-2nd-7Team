{
 "cells": [
  {
   "cell_type": "code",
   "execution_count": 1,
   "id": "2744c8ff",
   "metadata": {},
   "outputs": [
    {
     "name": "stderr",
     "output_type": "stream",
     "text": [
      "/var/folders/5n/23r0_lzd78l_tlx8j_f6613w0000gn/T/ipykernel_39842/1494730456.py:5: DtypeWarning: Columns (1,2,7,11,29) have mixed types. Specify dtype option on import or set low_memory=False.\n",
      "  data = pd.read_csv('/Users/jangjinseul/Desktop/SKN13/08_머신러닝/datasets/2010-new-york-state-hospital-inpatient-discharge/hospital-inpatient-discharges-sparcs-de-identified-2010-1.csv')\n"
     ]
    },
    {
     "name": "stdout",
     "output_type": "stream",
     "text": [
      "(2622133, 38)\n"
     ]
    },
    {
     "name": "stderr",
     "output_type": "stream",
     "text": [
      "/var/folders/5n/23r0_lzd78l_tlx8j_f6613w0000gn/T/ipykernel_39842/1494730456.py:15: SettingWithCopyWarning: \n",
      "A value is trying to be set on a copy of a slice from a DataFrame.\n",
      "Try using .loc[row_indexer,col_indexer] = value instead\n",
      "\n",
      "See the caveats in the documentation: https://pandas.pydata.org/pandas-docs/stable/user_guide/indexing.html#returning-a-view-versus-a-copy\n",
      "  df['Length of Stay'] = df['Length of Stay'].astype(int)\n"
     ]
    },
    {
     "name": "stdout",
     "output_type": "stream",
     "text": [
      "(2619918, 38) int64\n"
     ]
    }
   ],
   "source": [
    "import pandas as pd\n",
    "import numpy as np\n",
    "\n",
    "# 데이터 불러오기\n",
    "data = pd.read_csv('/Users/jangjinseul/Desktop/SKN13/08_머신러닝/datasets/2010-new-york-state-hospital-inpatient-discharge/hospital-inpatient-discharges-sparcs-de-identified-2010-1.csv')\n",
    "data.head(10)\n",
    "print(data.shape)\n",
    "# 1. 문자열 등 비정상적인 값은 NaN으로 변환\n",
    "data['Length of Stay'] = pd.to_numeric(data['Length of Stay'], errors='coerce')\n",
    "\n",
    "# 2. NaN이 된 행은 제거\n",
    "df = data.dropna(subset=['Length of Stay'])\n",
    "\n",
    "# 3. float → int 로 형변환 (NaN 제거되었으므로 안전)\n",
    "df['Length of Stay'] = df['Length of Stay'].astype(int)\n",
    "\n",
    "print(df.shape, df['Length of Stay'].dtype)\n",
    "\n",
    "# NaN 개수 많은 컬럼 제거\n",
    "df = df.drop(columns=df.columns[df.isna().sum() > 10_000], errors='ignore')\n",
    "\n",
    "# 의미 없는 컬럼 제거\n",
    "df = df.drop(columns=['index', 'Zip Code - 3 digits', 'Attending Provider License Number', 'Operating Certificate Number'], errors='ignore')\n",
    "\n",
    "# X, y 정의: 퇴원 상태를 이탈 vs 비이탈로 구분\n",
    "X = df.drop(columns=['Patient Disposition'])\n",
    "y = np.where(df['Patient Disposition'] == 'Left Against Medical Advice', 1, 0)\n"
   ]
  },
  {
   "cell_type": "code",
   "execution_count": 2,
   "id": "701ab064",
   "metadata": {},
   "outputs": [
    {
     "data": {
      "text/plain": [
       "Index(['Health Service Area', 'Hospital County', 'Facility ID',\n",
       "       'Facility Name', 'Age Group', 'Gender', 'Race', 'Ethnicity',\n",
       "       'Length of Stay', 'Type of Admission', 'Patient Disposition',\n",
       "       'Discharge Year', 'CCS Diagnosis Code', 'CCS Diagnosis Description',\n",
       "       'CCS Procedure Code', 'CCS Procedure Description', 'APR DRG Code',\n",
       "       'APR DRG Description', 'APR MDC Code', 'APR MDC Description',\n",
       "       'APR Severity of Illness Code', 'APR Severity of Illness Description',\n",
       "       'APR Risk of Mortality', 'APR Medical Surgical Description',\n",
       "       'Source of Payment 1', 'Birth Weight', 'Abortion Edit Indicator',\n",
       "       'Emergency Department Indicator', 'Total Charges', 'Total Costs'],\n",
       "      dtype='object')"
      ]
     },
     "execution_count": 2,
     "metadata": {},
     "output_type": "execute_result"
    }
   ],
   "source": [
    "df.columns"
   ]
  },
  {
   "cell_type": "code",
   "execution_count": 3,
   "id": "9569172d",
   "metadata": {},
   "outputs": [
    {
     "name": "stdout",
     "output_type": "stream",
     "text": [
      "컬럼: Health Service Area\n",
      "Health Service Area\n",
      "<class 'str'>      2615031\n",
      "<class 'float'>       4887\n",
      "Name: count, dtype: int64 \n",
      "\n",
      "컬럼: Hospital County\n",
      "Hospital County\n",
      "<class 'str'>      2615031\n",
      "<class 'float'>       4887\n",
      "Name: count, dtype: int64 \n",
      "\n",
      "컬럼: Facility Name\n",
      "Facility Name\n",
      "<class 'str'>    2619918\n",
      "Name: count, dtype: int64 \n",
      "\n",
      "컬럼: Age Group\n",
      "Age Group\n",
      "<class 'str'>    2619918\n",
      "Name: count, dtype: int64 \n",
      "\n",
      "컬럼: Gender\n",
      "Gender\n",
      "<class 'str'>    2619918\n",
      "Name: count, dtype: int64 \n",
      "\n",
      "컬럼: Race\n",
      "Race\n",
      "<class 'str'>    2619918\n",
      "Name: count, dtype: int64 \n",
      "\n",
      "컬럼: Ethnicity\n",
      "Ethnicity\n",
      "<class 'str'>    2619918\n",
      "Name: count, dtype: int64 \n",
      "\n",
      "컬럼: Type of Admission\n",
      "Type of Admission\n",
      "<class 'str'>    2619918\n",
      "Name: count, dtype: int64 \n",
      "\n",
      "컬럼: Patient Disposition\n",
      "Patient Disposition\n",
      "<class 'str'>      2619815\n",
      "<class 'float'>        103\n",
      "Name: count, dtype: int64 \n",
      "\n",
      "컬럼: CCS Diagnosis Description\n",
      "CCS Diagnosis Description\n",
      "<class 'str'>      2617645\n",
      "<class 'float'>       2273\n",
      "Name: count, dtype: int64 \n",
      "\n",
      "컬럼: CCS Procedure Description\n",
      "CCS Procedure Description\n",
      "<class 'str'>      2617645\n",
      "<class 'float'>       2273\n",
      "Name: count, dtype: int64 \n",
      "\n",
      "컬럼: APR DRG Description\n",
      "APR DRG Description\n",
      "<class 'str'>    2619918\n",
      "Name: count, dtype: int64 \n",
      "\n",
      "컬럼: APR MDC Description\n",
      "APR MDC Description\n",
      "<class 'str'>    2619918\n",
      "Name: count, dtype: int64 \n",
      "\n",
      "컬럼: APR Severity of Illness Description\n",
      "APR Severity of Illness Description\n",
      "<class 'str'>      2619685\n",
      "<class 'float'>        233\n",
      "Name: count, dtype: int64 \n",
      "\n",
      "컬럼: APR Risk of Mortality\n",
      "APR Risk of Mortality\n",
      "<class 'str'>      2619685\n",
      "<class 'float'>        233\n",
      "Name: count, dtype: int64 \n",
      "\n",
      "컬럼: APR Medical Surgical Description\n",
      "APR Medical Surgical Description\n",
      "<class 'str'>    2619918\n",
      "Name: count, dtype: int64 \n",
      "\n",
      "컬럼: Source of Payment 1\n",
      "Source of Payment 1\n",
      "<class 'str'>    2619918\n",
      "Name: count, dtype: int64 \n",
      "\n",
      "컬럼: Abortion Edit Indicator\n",
      "Abortion Edit Indicator\n",
      "<class 'str'>    2619918\n",
      "Name: count, dtype: int64 \n",
      "\n",
      "컬럼: Emergency Department Indicator\n",
      "Emergency Department Indicator\n",
      "<class 'str'>    2619918\n",
      "Name: count, dtype: int64 \n",
      "\n"
     ]
    }
   ],
   "source": [
    "# Object type인 컬럼의 세부 dtype 확인 > nan은 float type\n",
    "# float type의 개수와 nan 개수가 같음\n",
    "for col in df.select_dtypes(include='object').columns:\n",
    "    print(f\"컬럼: {col}\")\n",
    "    print(df[col].apply(type).value_counts(), \"\\n\")"
   ]
  },
  {
   "cell_type": "code",
   "execution_count": 4,
   "id": "9406114e",
   "metadata": {},
   "outputs": [
    {
     "data": {
      "text/plain": [
       "0           1\n",
       "1          15\n",
       "2           3\n",
       "3           5\n",
       "4           4\n",
       "           ..\n",
       "2622128    29\n",
       "2622129     1\n",
       "2622130     4\n",
       "2622131     1\n",
       "2622132     1\n",
       "Name: Length of Stay, Length: 2619918, dtype: int64"
      ]
     },
     "execution_count": 4,
     "metadata": {},
     "output_type": "execute_result"
    }
   ],
   "source": [
    "df['Length of Stay']"
   ]
  },
  {
   "cell_type": "code",
   "execution_count": 5,
   "id": "25518e2d",
   "metadata": {},
   "outputs": [
    {
     "data": {
      "text/plain": [
       "Health Service Area                          8\n",
       "Hospital County                             57\n",
       "Facility ID                                225\n",
       "Facility Name                              225\n",
       "Age Group                                    5\n",
       "Gender                                       3\n",
       "Race                                         4\n",
       "Ethnicity                                    3\n",
       "Length of Stay                             119\n",
       "Type of Admission                            6\n",
       "Patient Disposition                         19\n",
       "Discharge Year                               1\n",
       "CCS Diagnosis Code                         262\n",
       "CCS Diagnosis Description                  262\n",
       "CCS Procedure Code                         232\n",
       "CCS Procedure Description                  232\n",
       "APR DRG Code                               316\n",
       "APR DRG Description                        316\n",
       "APR MDC Code                                26\n",
       "APR MDC Description                         26\n",
       "APR Severity of Illness Code                 5\n",
       "APR Severity of Illness Description          4\n",
       "APR Risk of Mortality                        4\n",
       "APR Medical Surgical Description             3\n",
       "Source of Payment 1                         10\n",
       "Birth Weight                                91\n",
       "Abortion Edit Indicator                      2\n",
       "Emergency Department Indicator               2\n",
       "Total Charges                          1749071\n",
       "Total Costs                            1427495\n",
       "dtype: int64"
      ]
     },
     "execution_count": 5,
     "metadata": {},
     "output_type": "execute_result"
    }
   ],
   "source": [
    "# 고유값 개수 확인\n",
    "df.nunique()"
   ]
  },
  {
   "cell_type": "code",
   "execution_count": 6,
   "id": "41f15b9a",
   "metadata": {},
   "outputs": [],
   "source": [
    "from sklearn.neighbors import KNeighborsClassifier\n",
    "from sklearn.ensemble import GradientBoostingClassifier, RandomForestClassifier\n",
    "from xgboost import XGBClassifier\n",
    "from sklearn.svm import SVC\n",
    "from sklearn.tree import DecisionTreeClassifier\n",
    "from sklearn.linear_model import LogisticRegression\n",
    "\n",
    "from sklearn.model_selection import train_test_split\n",
    "from sklearn.metrics import accuracy_score, precision_score, recall_score, f1_score\n",
    "from sklearn.pipeline import Pipeline, make_pipeline\n",
    "from sklearn.compose import ColumnTransformer\n",
    "from sklearn.preprocessing import StandardScaler, OneHotEncoder, OrdinalEncoder\n",
    "from sklearn.impute import KNNImputer, SimpleImputer\n",
    "from sklearn.decomposition import PCA\n",
    "\n",
    "import seaborn as sns\n",
    "import matplotlib.pyplot as plt\n",
    "import numpy as np"
   ]
  },
  {
   "cell_type": "code",
   "execution_count": 7,
   "id": "f4141b04",
   "metadata": {},
   "outputs": [],
   "source": [
    "# 고유값이 만 단위 이상은 연속형, 나머진 범주형 + Birth Weight는 연속형\n",
    "num_columns = ['Total Charges', 'Total Costs', 'Length of Stay', 'Birth Weight'] # 연속형 컬럼\n",
    "cate_columns = [col for col in df.columns\n",
    "                if col not in num_columns + ['Patient Disposition']] # 범주형 컬럼\n"
   ]
  },
  {
   "cell_type": "code",
   "execution_count": 8,
   "id": "842e963b",
   "metadata": {},
   "outputs": [],
   "source": [
    "# 파이프라인 정의\n",
    "num_pipeline = make_pipeline(\n",
    "    KNNImputer(n_neighbors=5),\n",
    "    StandardScaler()\n",
    ")"
   ]
  },
  {
   "cell_type": "code",
   "execution_count": 9,
   "id": "780acd40",
   "metadata": {},
   "outputs": [],
   "source": [
    "# Tree based 모델(DecisionTree, RandomForest, XGBoost 등) + Support Vector 모델 \n",
    "cat_pipeline = make_pipeline( \n",
    "    SimpleImputer(strategy='most_frequent'),\n",
    "    OrdinalEncoder(handle_unknown='use_encoded_value', unknown_value=-1)\n",
    ")\n",
    "# 비 Tree based 모델(LogisticRegression 등)\n",
    "cat2_pipeline = make_pipeline(\n",
    "    SimpleImputer(strategy='most_frequent'),\n",
    "    OneHotEncoder(handle_unknown='ignore')\n",
    ")\n",
    "\n",
    "# ColumnTransformer\n",
    "preprocessor = ColumnTransformer([\n",
    "    ('cat', cat_pipeline, cate_columns),\n",
    "    ('num', num_pipeline, num_columns)\n",
    "])\n",
    "\n",
    "preprocessor2 = ColumnTransformer([\n",
    "    ('cat', cat2_pipeline, cate_columns),\n",
    "    ('num', num_pipeline, num_columns)\n",
    "])\n",
    "\n",
    "pca = PCA(n_components=5)"
   ]
  },
  {
   "cell_type": "code",
   "execution_count": 10,
   "id": "0ed14646",
   "metadata": {},
   "outputs": [],
   "source": [
    "# 데이터 셋 분할 \n",
    "\n",
    "from sklearn.model_selection import train_test_split\n",
    "\n",
    "X_train, X_test, y_train, y_test = train_test_split(X, y, train_size=0.05, test_size=0.001,\n",
    "                                                    random_state=42, stratify=y)"
   ]
  },
  {
   "cell_type": "code",
   "execution_count": 17,
   "id": "b1da93c8",
   "metadata": {},
   "outputs": [],
   "source": [
    "from sklearn.tree import DecisionTreeClassifier\n",
    "from sklearn.metrics import accuracy_score\n",
    "\n",
    "def tree_pipeline_modeling(X_train, y_train, max_depth=None):\n",
    "    pipeline = Pipeline([\n",
    "        ('preprocessor', preprocessor),  # <- tree 모델용 전처리 사용\n",
    "        ('model', DecisionTreeClassifier(max_depth=max_depth, random_state=0))\n",
    "    ])\n",
    "    pipeline.fit(X_train, y_train)\n",
    "    return pipeline\n",
    "\n",
    "    tree = DecisionTreeClassifier(max_depth=max_depth, random_state=0)\n",
    "    tree.fit(X, y)\n",
    "    return tree\n",
    "\n",
    "def pipeline_accuracy(X, y, pipeline, title):\n",
    "    pred = pipeline.predict(X)\n",
    "    acc = accuracy_score(y, pred)\n",
    "    print(f\"{title}: {acc:.4f}\")"
   ]
  },
  {
   "cell_type": "code",
   "execution_count": 33,
   "id": "ad580ec9",
   "metadata": {},
   "outputs": [
    {
     "name": "stdout",
     "output_type": "stream",
     "text": [
      "max depth: 1\n",
      "Train set: 0.9783\n",
      "Test set: 0.9782\n"
     ]
    }
   ],
   "source": [
    "tree1 = tree_pipeline_modeling(X_train, y_train, max_depth=1)\n",
    "print(\"max depth: 1\")\n",
    "pipeline_accuracy(X_train, y_train, tree1, \"Train set\")\n",
    "pipeline_accuracy(X_test, y_test, tree1, \"Test set\")"
   ]
  },
  {
   "cell_type": "code",
   "execution_count": 34,
   "id": "a6416f71",
   "metadata": {},
   "outputs": [
    {
     "name": "stdout",
     "output_type": "stream",
     "text": [
      "max depth: 2\n",
      "Trainset: 0.9848\n",
      "Testset: 0.9844\n"
     ]
    }
   ],
   "source": [
    "tree2 = tree_pipeline_modeling(X_train, y_train, max_depth=2)\n",
    "print(\"max depth: 2\")\n",
    "pipeline_accuracy(X_train, y_train, tree2, \"Trainset\")\n",
    "pipeline_accuracy(X_test, y_test, tree2, \"Testset\")"
   ]
  },
  {
   "cell_type": "code",
   "execution_count": 35,
   "id": "e3a9f0a1",
   "metadata": {},
   "outputs": [
    {
     "name": "stdout",
     "output_type": "stream",
     "text": [
      "max depth: 3\n",
      "Trainset: 0.9848\n",
      "Testset: 0.9844\n"
     ]
    }
   ],
   "source": [
    "tree3 = tree_pipeline_modeling(X_train, y_train, max_depth=3)\n",
    "print(\"max depth: 3\")\n",
    "pipeline_accuracy(X_train, y_train, tree2, \"Trainset\")\n",
    "pipeline_accuracy(X_test, y_test, tree2, \"Testset\")"
   ]
  },
  {
   "cell_type": "code",
   "execution_count": 36,
   "id": "283872fe",
   "metadata": {},
   "outputs": [
    {
     "name": "stdout",
     "output_type": "stream",
     "text": [
      "max depth: 5\n",
      "Trainset: 0.9848\n",
      "Testset: 0.9844\n"
     ]
    }
   ],
   "source": [
    "tree5 = tree_pipeline_modeling(X_train, y_train, max_depth=5)\n",
    "print(\"max depth: 5\")\n",
    "pipeline_accuracy(X_train, y_train, tree2, \"Trainset\")\n",
    "pipeline_accuracy(X_test, y_test, tree2, \"Testset\")"
   ]
  },
  {
   "cell_type": "code",
   "execution_count": null,
   "id": "f4127231",
   "metadata": {},
   "outputs": [],
   "source": []
  },
  {
   "cell_type": "code",
   "execution_count": 26,
   "id": "3af43d11",
   "metadata": {},
   "outputs": [
    {
     "name": "stdout",
     "output_type": "stream",
     "text": [
      "Requirement already satisfied: graphviz in /Users/jangjinseul/miniconda3/lib/python3.12/site-packages (0.20.3)\n",
      "\n",
      "\u001b[1m[\u001b[0m\u001b[34;49mnotice\u001b[0m\u001b[1;39;49m]\u001b[0m\u001b[39;49m A new release of pip is available: \u001b[0m\u001b[31;49m25.0.1\u001b[0m\u001b[39;49m -> \u001b[0m\u001b[32;49m25.1.1\u001b[0m\n",
      "\u001b[1m[\u001b[0m\u001b[34;49mnotice\u001b[0m\u001b[1;39;49m]\u001b[0m\u001b[39;49m To update, run: \u001b[0m\u001b[32;49mpip install --upgrade pip\u001b[0m\n",
      "Note: you may need to restart the kernel to use updated packages.\n"
     ]
    }
   ],
   "source": [
    "%pip install graphviz"
   ]
  },
  {
   "cell_type": "code",
   "execution_count": 37,
   "id": "716517a6",
   "metadata": {},
   "outputs": [
    {
     "data": {
      "image/svg+xml": [
       "<?xml version=\"1.0\" encoding=\"UTF-8\" standalone=\"no\"?>\n",
       "<!DOCTYPE svg PUBLIC \"-//W3C//DTD SVG 1.1//EN\"\n",
       " \"http://www.w3.org/Graphics/SVG/1.1/DTD/svg11.dtd\">\n",
       "<!-- Generated by graphviz version 12.2.1 (20241206.2353)\n",
       " -->\n",
       "<!-- Title: Tree Pages: 1 -->\n",
       "<svg width=\"1045pt\" height=\"442pt\"\n",
       " viewBox=\"0.00 0.00 1045.38 442.00\" xmlns=\"http://www.w3.org/2000/svg\" xmlns:xlink=\"http://www.w3.org/1999/xlink\">\n",
       "<g id=\"graph0\" class=\"graph\" transform=\"scale(1 1) rotate(0) translate(4 438)\">\n",
       "<title>Tree</title>\n",
       "<polygon fill=\"white\" stroke=\"none\" points=\"-4,4 -4,-438 1041.38,-438 1041.38,4 -4,4\"/>\n",
       "<!-- 0 -->\n",
       "<g id=\"node1\" class=\"node\">\n",
       "<title>0</title>\n",
       "<path fill=\"#e6843d\" stroke=\"black\" d=\"M582.12,-434C582.12,-434 380.12,-434 380.12,-434 374.12,-434 368.12,-428 368.12,-422 368.12,-422 368.12,-360.75 368.12,-360.75 368.12,-354.75 374.12,-348.75 380.12,-348.75 380.12,-348.75 582.12,-348.75 582.12,-348.75 588.12,-348.75 594.12,-354.75 594.12,-360.75 594.12,-360.75 594.12,-422 594.12,-422 594.12,-428 588.12,-434 582.12,-434\"/>\n",
       "<text text-anchor=\"middle\" x=\"481.12\" y=\"-416.7\" font-family=\"Helvetica,sans-Serif\" font-size=\"14.00\">cat__APR MDC Description &lt;= 0.5</text>\n",
       "<text text-anchor=\"middle\" x=\"481.12\" y=\"-401.7\" font-family=\"Helvetica,sans-Serif\" font-size=\"14.00\">gini = 0.043</text>\n",
       "<text text-anchor=\"middle\" x=\"481.12\" y=\"-386.7\" font-family=\"Helvetica,sans-Serif\" font-size=\"14.00\">samples = 130995</text>\n",
       "<text text-anchor=\"middle\" x=\"481.12\" y=\"-371.7\" font-family=\"Helvetica,sans-Serif\" font-size=\"14.00\">value = [128149, 2846]</text>\n",
       "<text text-anchor=\"middle\" x=\"481.12\" y=\"-356.7\" font-family=\"Helvetica,sans-Serif\" font-size=\"14.00\">class = 비이탈</text>\n",
       "</g>\n",
       "<!-- 1 -->\n",
       "<g id=\"node2\" class=\"node\">\n",
       "<title>1</title>\n",
       "<path fill=\"#eb9e66\" stroke=\"black\" d=\"M459.62,-312.75C459.62,-312.75 278.62,-312.75 278.62,-312.75 272.62,-312.75 266.62,-306.75 266.62,-300.75 266.62,-300.75 266.62,-239.5 266.62,-239.5 266.62,-233.5 272.62,-227.5 278.62,-227.5 278.62,-227.5 459.62,-227.5 459.62,-227.5 465.62,-227.5 471.62,-233.5 471.62,-239.5 471.62,-239.5 471.62,-300.75 471.62,-300.75 471.62,-306.75 465.62,-312.75 459.62,-312.75\"/>\n",
       "<text text-anchor=\"middle\" x=\"369.12\" y=\"-295.45\" font-family=\"Helvetica,sans-Serif\" font-size=\"14.00\">cat__APR DRG Code &lt;= 282.5</text>\n",
       "<text text-anchor=\"middle\" x=\"369.12\" y=\"-280.45\" font-family=\"Helvetica,sans-Serif\" font-size=\"14.00\">gini = 0.302</text>\n",
       "<text text-anchor=\"middle\" x=\"369.12\" y=\"-265.45\" font-family=\"Helvetica,sans-Serif\" font-size=\"14.00\">samples = 4595</text>\n",
       "<text text-anchor=\"middle\" x=\"369.12\" y=\"-250.45\" font-family=\"Helvetica,sans-Serif\" font-size=\"14.00\">value = [3742, 853]</text>\n",
       "<text text-anchor=\"middle\" x=\"369.12\" y=\"-235.45\" font-family=\"Helvetica,sans-Serif\" font-size=\"14.00\">class = 비이탈</text>\n",
       "</g>\n",
       "<!-- 0&#45;&gt;1 -->\n",
       "<g id=\"edge1\" class=\"edge\">\n",
       "<title>0&#45;&gt;1</title>\n",
       "<path fill=\"none\" stroke=\"black\" d=\"M441.64,-348.33C433.44,-339.6 424.73,-330.32 416.28,-321.34\"/>\n",
       "<polygon fill=\"black\" stroke=\"black\" points=\"419.07,-319.19 409.67,-314.29 413.96,-323.98 419.07,-319.19\"/>\n",
       "<text text-anchor=\"middle\" x=\"407.85\" y=\"-332.38\" font-family=\"Helvetica,sans-Serif\" font-size=\"14.00\">True</text>\n",
       "</g>\n",
       "<!-- 6 -->\n",
       "<g id=\"node7\" class=\"node\">\n",
       "<title>6</title>\n",
       "<path fill=\"#e5833c\" stroke=\"black\" d=\"M684.75,-312.75C684.75,-312.75 501.5,-312.75 501.5,-312.75 495.5,-312.75 489.5,-306.75 489.5,-300.75 489.5,-300.75 489.5,-239.5 489.5,-239.5 489.5,-233.5 495.5,-227.5 501.5,-227.5 501.5,-227.5 684.75,-227.5 684.75,-227.5 690.75,-227.5 696.75,-233.5 696.75,-239.5 696.75,-239.5 696.75,-300.75 696.75,-300.75 696.75,-306.75 690.75,-312.75 684.75,-312.75\"/>\n",
       "<text text-anchor=\"middle\" x=\"593.12\" y=\"-295.45\" font-family=\"Helvetica,sans-Serif\" font-size=\"14.00\">num__Length of Stay &lt;= &#45;0.511</text>\n",
       "<text text-anchor=\"middle\" x=\"593.12\" y=\"-280.45\" font-family=\"Helvetica,sans-Serif\" font-size=\"14.00\">gini = 0.031</text>\n",
       "<text text-anchor=\"middle\" x=\"593.12\" y=\"-265.45\" font-family=\"Helvetica,sans-Serif\" font-size=\"14.00\">samples = 126400</text>\n",
       "<text text-anchor=\"middle\" x=\"593.12\" y=\"-250.45\" font-family=\"Helvetica,sans-Serif\" font-size=\"14.00\">value = [124407.0, 1993.0]</text>\n",
       "<text text-anchor=\"middle\" x=\"593.12\" y=\"-235.45\" font-family=\"Helvetica,sans-Serif\" font-size=\"14.00\">class = 비이탈</text>\n",
       "</g>\n",
       "<!-- 0&#45;&gt;6 -->\n",
       "<g id=\"edge6\" class=\"edge\">\n",
       "<title>0&#45;&gt;6</title>\n",
       "<path fill=\"none\" stroke=\"black\" d=\"M520.61,-348.33C528.81,-339.6 537.52,-330.32 545.97,-321.34\"/>\n",
       "<polygon fill=\"black\" stroke=\"black\" points=\"548.29,-323.98 552.58,-314.29 543.18,-319.19 548.29,-323.98\"/>\n",
       "<text text-anchor=\"middle\" x=\"554.4\" y=\"-332.38\" font-family=\"Helvetica,sans-Serif\" font-size=\"14.00\">False</text>\n",
       "</g>\n",
       "<!-- 2 -->\n",
       "<g id=\"node3\" class=\"node\">\n",
       "<title>2</title>\n",
       "<path fill=\"#399de5\" stroke=\"black\" d=\"M282.25,-191.5C282.25,-191.5 12,-191.5 12,-191.5 6,-191.5 0,-185.5 0,-179.5 0,-179.5 0,-118.25 0,-118.25 0,-112.25 6,-106.25 12,-106.25 12,-106.25 282.25,-106.25 282.25,-106.25 288.25,-106.25 294.25,-112.25 294.25,-118.25 294.25,-118.25 294.25,-179.5 294.25,-179.5 294.25,-185.5 288.25,-191.5 282.25,-191.5\"/>\n",
       "<text text-anchor=\"middle\" x=\"147.12\" y=\"-174.2\" font-family=\"Helvetica,sans-Serif\" font-size=\"14.00\">cat__APR Medical Surgical Description &lt;= 1.0</text>\n",
       "<text text-anchor=\"middle\" x=\"147.12\" y=\"-159.2\" font-family=\"Helvetica,sans-Serif\" font-size=\"14.00\">gini = 0.002</text>\n",
       "<text text-anchor=\"middle\" x=\"147.12\" y=\"-144.2\" font-family=\"Helvetica,sans-Serif\" font-size=\"14.00\">samples = 854</text>\n",
       "<text text-anchor=\"middle\" x=\"147.12\" y=\"-129.2\" font-family=\"Helvetica,sans-Serif\" font-size=\"14.00\">value = [1, 853]</text>\n",
       "<text text-anchor=\"middle\" x=\"147.12\" y=\"-114.2\" font-family=\"Helvetica,sans-Serif\" font-size=\"14.00\">class = 이탈</text>\n",
       "</g>\n",
       "<!-- 1&#45;&gt;2 -->\n",
       "<g id=\"edge2\" class=\"edge\">\n",
       "<title>1&#45;&gt;2</title>\n",
       "<path fill=\"none\" stroke=\"black\" d=\"M290.86,-227.08C272.95,-217.46 253.8,-207.17 235.5,-197.35\"/>\n",
       "<polygon fill=\"black\" stroke=\"black\" points=\"237.23,-194.31 226.77,-192.66 233.92,-200.47 237.23,-194.31\"/>\n",
       "</g>\n",
       "<!-- 5 -->\n",
       "<g id=\"node6\" class=\"node\">\n",
       "<title>5</title>\n",
       "<path fill=\"#e58139\" stroke=\"black\" d=\"M416.38,-184C416.38,-184 323.88,-184 323.88,-184 317.88,-184 311.88,-178 311.88,-172 311.88,-172 311.88,-125.75 311.88,-125.75 311.88,-119.75 317.88,-113.75 323.88,-113.75 323.88,-113.75 416.38,-113.75 416.38,-113.75 422.38,-113.75 428.38,-119.75 428.38,-125.75 428.38,-125.75 428.38,-172 428.38,-172 428.38,-178 422.38,-184 416.38,-184\"/>\n",
       "<text text-anchor=\"middle\" x=\"370.12\" y=\"-166.7\" font-family=\"Helvetica,sans-Serif\" font-size=\"14.00\">gini = 0.0</text>\n",
       "<text text-anchor=\"middle\" x=\"370.12\" y=\"-151.7\" font-family=\"Helvetica,sans-Serif\" font-size=\"14.00\">samples = 3741</text>\n",
       "<text text-anchor=\"middle\" x=\"370.12\" y=\"-136.7\" font-family=\"Helvetica,sans-Serif\" font-size=\"14.00\">value = [3741, 0]</text>\n",
       "<text text-anchor=\"middle\" x=\"370.12\" y=\"-121.7\" font-family=\"Helvetica,sans-Serif\" font-size=\"14.00\">class = 비이탈</text>\n",
       "</g>\n",
       "<!-- 1&#45;&gt;5 -->\n",
       "<g id=\"edge5\" class=\"edge\">\n",
       "<title>1&#45;&gt;5</title>\n",
       "<path fill=\"none\" stroke=\"black\" d=\"M369.48,-227.08C369.56,-216.95 369.65,-206.07 369.74,-195.77\"/>\n",
       "<polygon fill=\"black\" stroke=\"black\" points=\"373.24,-196 369.82,-185.97 366.24,-195.94 373.24,-196\"/>\n",
       "</g>\n",
       "<!-- 3 -->\n",
       "<g id=\"node4\" class=\"node\">\n",
       "<title>3</title>\n",
       "<path fill=\"#399de5\" stroke=\"black\" d=\"M128.62,-70.25C128.62,-70.25 43.62,-70.25 43.62,-70.25 37.62,-70.25 31.62,-64.25 31.62,-58.25 31.62,-58.25 31.62,-12 31.62,-12 31.62,-6 37.62,0 43.62,0 43.62,0 128.62,0 128.62,0 134.62,0 140.62,-6 140.62,-12 140.62,-12 140.62,-58.25 140.62,-58.25 140.62,-64.25 134.62,-70.25 128.62,-70.25\"/>\n",
       "<text text-anchor=\"middle\" x=\"86.12\" y=\"-52.95\" font-family=\"Helvetica,sans-Serif\" font-size=\"14.00\">gini = 0.0</text>\n",
       "<text text-anchor=\"middle\" x=\"86.12\" y=\"-37.95\" font-family=\"Helvetica,sans-Serif\" font-size=\"14.00\">samples = 853</text>\n",
       "<text text-anchor=\"middle\" x=\"86.12\" y=\"-22.95\" font-family=\"Helvetica,sans-Serif\" font-size=\"14.00\">value = [0, 853]</text>\n",
       "<text text-anchor=\"middle\" x=\"86.12\" y=\"-7.95\" font-family=\"Helvetica,sans-Serif\" font-size=\"14.00\">class = 이탈</text>\n",
       "</g>\n",
       "<!-- 2&#45;&gt;3 -->\n",
       "<g id=\"edge3\" class=\"edge\">\n",
       "<title>2&#45;&gt;3</title>\n",
       "<path fill=\"none\" stroke=\"black\" d=\"M124.24,-105.95C119.72,-97.67 114.96,-88.95 110.4,-80.6\"/>\n",
       "<polygon fill=\"black\" stroke=\"black\" points=\"113.55,-79.06 105.69,-71.96 107.4,-82.41 113.55,-79.06\"/>\n",
       "</g>\n",
       "<!-- 4 -->\n",
       "<g id=\"node5\" class=\"node\">\n",
       "<title>4</title>\n",
       "<path fill=\"#e58139\" stroke=\"black\" d=\"M245.38,-70.25C245.38,-70.25 170.88,-70.25 170.88,-70.25 164.88,-70.25 158.88,-64.25 158.88,-58.25 158.88,-58.25 158.88,-12 158.88,-12 158.88,-6 164.88,0 170.88,0 170.88,0 245.38,0 245.38,0 251.38,0 257.38,-6 257.38,-12 257.38,-12 257.38,-58.25 257.38,-58.25 257.38,-64.25 251.38,-70.25 245.38,-70.25\"/>\n",
       "<text text-anchor=\"middle\" x=\"208.12\" y=\"-52.95\" font-family=\"Helvetica,sans-Serif\" font-size=\"14.00\">gini = 0.0</text>\n",
       "<text text-anchor=\"middle\" x=\"208.12\" y=\"-37.95\" font-family=\"Helvetica,sans-Serif\" font-size=\"14.00\">samples = 1</text>\n",
       "<text text-anchor=\"middle\" x=\"208.12\" y=\"-22.95\" font-family=\"Helvetica,sans-Serif\" font-size=\"14.00\">value = [1, 0]</text>\n",
       "<text text-anchor=\"middle\" x=\"208.12\" y=\"-7.95\" font-family=\"Helvetica,sans-Serif\" font-size=\"14.00\">class = 비이탈</text>\n",
       "</g>\n",
       "<!-- 2&#45;&gt;4 -->\n",
       "<g id=\"edge4\" class=\"edge\">\n",
       "<title>2&#45;&gt;4</title>\n",
       "<path fill=\"none\" stroke=\"black\" d=\"M170.01,-105.95C174.53,-97.67 179.29,-88.95 183.85,-80.6\"/>\n",
       "<polygon fill=\"black\" stroke=\"black\" points=\"186.85,-82.41 188.56,-71.96 180.7,-79.06 186.85,-82.41\"/>\n",
       "</g>\n",
       "<!-- 7 -->\n",
       "<g id=\"node8\" class=\"node\">\n",
       "<title>7</title>\n",
       "<path fill=\"#e68743\" stroke=\"black\" d=\"M728.25,-191.5C728.25,-191.5 458,-191.5 458,-191.5 452,-191.5 446,-185.5 446,-179.5 446,-179.5 446,-118.25 446,-118.25 446,-112.25 452,-106.25 458,-106.25 458,-106.25 728.25,-106.25 728.25,-106.25 734.25,-106.25 740.25,-112.25 740.25,-118.25 740.25,-118.25 740.25,-179.5 740.25,-179.5 740.25,-185.5 734.25,-191.5 728.25,-191.5\"/>\n",
       "<text text-anchor=\"middle\" x=\"593.12\" y=\"-174.2\" font-family=\"Helvetica,sans-Serif\" font-size=\"14.00\">cat__APR Medical Surgical Description &lt;= 0.5</text>\n",
       "<text text-anchor=\"middle\" x=\"593.12\" y=\"-159.2\" font-family=\"Helvetica,sans-Serif\" font-size=\"14.00\">gini = 0.092</text>\n",
       "<text text-anchor=\"middle\" x=\"593.12\" y=\"-144.2\" font-family=\"Helvetica,sans-Serif\" font-size=\"14.00\">samples = 20789</text>\n",
       "<text text-anchor=\"middle\" x=\"593.12\" y=\"-129.2\" font-family=\"Helvetica,sans-Serif\" font-size=\"14.00\">value = [19788, 1001]</text>\n",
       "<text text-anchor=\"middle\" x=\"593.12\" y=\"-114.2\" font-family=\"Helvetica,sans-Serif\" font-size=\"14.00\">class = 비이탈</text>\n",
       "</g>\n",
       "<!-- 6&#45;&gt;7 -->\n",
       "<g id=\"edge7\" class=\"edge\">\n",
       "<title>6&#45;&gt;7</title>\n",
       "<path fill=\"none\" stroke=\"black\" d=\"M593.12,-227.08C593.12,-219.42 593.12,-211.34 593.12,-203.4\"/>\n",
       "<polygon fill=\"black\" stroke=\"black\" points=\"596.63,-203.45 593.13,-193.45 589.63,-203.45 596.63,-203.45\"/>\n",
       "</g>\n",
       "<!-- 10 -->\n",
       "<g id=\"node11\" class=\"node\">\n",
       "<title>10</title>\n",
       "<path fill=\"#e5823b\" stroke=\"black\" d=\"M944.25,-191.5C944.25,-191.5 770,-191.5 770,-191.5 764,-191.5 758,-185.5 758,-179.5 758,-179.5 758,-118.25 758,-118.25 758,-112.25 764,-106.25 770,-106.25 770,-106.25 944.25,-106.25 944.25,-106.25 950.25,-106.25 956.25,-112.25 956.25,-118.25 956.25,-118.25 956.25,-179.5 956.25,-179.5 956.25,-185.5 950.25,-191.5 944.25,-191.5\"/>\n",
       "<text text-anchor=\"middle\" x=\"857.12\" y=\"-174.2\" font-family=\"Helvetica,sans-Serif\" font-size=\"14.00\">cat__APR MDC Code &lt;= 23.5</text>\n",
       "<text text-anchor=\"middle\" x=\"857.12\" y=\"-159.2\" font-family=\"Helvetica,sans-Serif\" font-size=\"14.00\">gini = 0.019</text>\n",
       "<text text-anchor=\"middle\" x=\"857.12\" y=\"-144.2\" font-family=\"Helvetica,sans-Serif\" font-size=\"14.00\">samples = 105611</text>\n",
       "<text text-anchor=\"middle\" x=\"857.12\" y=\"-129.2\" font-family=\"Helvetica,sans-Serif\" font-size=\"14.00\">value = [104619.0, 992.0]</text>\n",
       "<text text-anchor=\"middle\" x=\"857.12\" y=\"-114.2\" font-family=\"Helvetica,sans-Serif\" font-size=\"14.00\">class = 비이탈</text>\n",
       "</g>\n",
       "<!-- 6&#45;&gt;10 -->\n",
       "<g id=\"edge10\" class=\"edge\">\n",
       "<title>6&#45;&gt;10</title>\n",
       "<path fill=\"none\" stroke=\"black\" d=\"M686.2,-227.08C707.99,-217.24 731.33,-206.7 753.54,-196.66\"/>\n",
       "<polygon fill=\"black\" stroke=\"black\" points=\"754.95,-199.87 762.62,-192.56 752.07,-193.49 754.95,-199.87\"/>\n",
       "</g>\n",
       "<!-- 8 -->\n",
       "<g id=\"node9\" class=\"node\">\n",
       "<title>8</title>\n",
       "<path fill=\"#e78a47\" stroke=\"black\" d=\"M528.62,-70.25C528.62,-70.25 413.62,-70.25 413.62,-70.25 407.62,-70.25 401.62,-64.25 401.62,-58.25 401.62,-58.25 401.62,-12 401.62,-12 401.62,-6 407.62,0 413.62,0 413.62,0 528.62,0 528.62,0 534.62,0 540.62,-6 540.62,-12 540.62,-12 540.62,-58.25 540.62,-58.25 540.62,-64.25 534.62,-70.25 528.62,-70.25\"/>\n",
       "<text text-anchor=\"middle\" x=\"471.12\" y=\"-52.95\" font-family=\"Helvetica,sans-Serif\" font-size=\"14.00\">gini = 0.125</text>\n",
       "<text text-anchor=\"middle\" x=\"471.12\" y=\"-37.95\" font-family=\"Helvetica,sans-Serif\" font-size=\"14.00\">samples = 14708</text>\n",
       "<text text-anchor=\"middle\" x=\"471.12\" y=\"-22.95\" font-family=\"Helvetica,sans-Serif\" font-size=\"14.00\">value = [13723, 985]</text>\n",
       "<text text-anchor=\"middle\" x=\"471.12\" y=\"-7.95\" font-family=\"Helvetica,sans-Serif\" font-size=\"14.00\">class = 비이탈</text>\n",
       "</g>\n",
       "<!-- 7&#45;&gt;8 -->\n",
       "<g id=\"edge8\" class=\"edge\">\n",
       "<title>7&#45;&gt;8</title>\n",
       "<path fill=\"none\" stroke=\"black\" d=\"M547.35,-105.95C537.52,-96.94 527.12,-87.42 517.28,-78.4\"/>\n",
       "<polygon fill=\"black\" stroke=\"black\" points=\"519.65,-75.83 509.91,-71.65 514.92,-80.99 519.65,-75.83\"/>\n",
       "</g>\n",
       "<!-- 9 -->\n",
       "<g id=\"node10\" class=\"node\">\n",
       "<title>9</title>\n",
       "<path fill=\"#e5813a\" stroke=\"black\" d=\"M671.12,-70.25C671.12,-70.25 571.12,-70.25 571.12,-70.25 565.12,-70.25 559.12,-64.25 559.12,-58.25 559.12,-58.25 559.12,-12 559.12,-12 559.12,-6 565.12,0 571.12,0 571.12,0 671.12,0 671.12,0 677.12,0 683.12,-6 683.12,-12 683.12,-12 683.12,-58.25 683.12,-58.25 683.12,-64.25 677.12,-70.25 671.12,-70.25\"/>\n",
       "<text text-anchor=\"middle\" x=\"621.12\" y=\"-52.95\" font-family=\"Helvetica,sans-Serif\" font-size=\"14.00\">gini = 0.005</text>\n",
       "<text text-anchor=\"middle\" x=\"621.12\" y=\"-37.95\" font-family=\"Helvetica,sans-Serif\" font-size=\"14.00\">samples = 6081</text>\n",
       "<text text-anchor=\"middle\" x=\"621.12\" y=\"-22.95\" font-family=\"Helvetica,sans-Serif\" font-size=\"14.00\">value = [6065, 16]</text>\n",
       "<text text-anchor=\"middle\" x=\"621.12\" y=\"-7.95\" font-family=\"Helvetica,sans-Serif\" font-size=\"14.00\">class = 비이탈</text>\n",
       "</g>\n",
       "<!-- 7&#45;&gt;9 -->\n",
       "<g id=\"edge9\" class=\"edge\">\n",
       "<title>7&#45;&gt;9</title>\n",
       "<path fill=\"none\" stroke=\"black\" d=\"M603.63,-105.95C605.61,-98.03 607.7,-89.72 609.71,-81.7\"/>\n",
       "<polygon fill=\"black\" stroke=\"black\" points=\"613.08,-82.65 612.11,-72.1 606.29,-80.95 613.08,-82.65\"/>\n",
       "</g>\n",
       "<!-- 11 -->\n",
       "<g id=\"node12\" class=\"node\">\n",
       "<title>11</title>\n",
       "<path fill=\"#e5823b\" stroke=\"black\" d=\"M890.38,-70.25C890.38,-70.25 767.88,-70.25 767.88,-70.25 761.88,-70.25 755.88,-64.25 755.88,-58.25 755.88,-58.25 755.88,-12 755.88,-12 755.88,-6 761.88,0 767.88,0 767.88,0 890.38,0 890.38,0 896.38,0 902.38,-6 902.38,-12 902.38,-12 902.38,-58.25 902.38,-58.25 902.38,-64.25 896.38,-70.25 890.38,-70.25\"/>\n",
       "<text text-anchor=\"middle\" x=\"829.12\" y=\"-52.95\" font-family=\"Helvetica,sans-Serif\" font-size=\"14.00\">gini = 0.018</text>\n",
       "<text text-anchor=\"middle\" x=\"829.12\" y=\"-37.95\" font-family=\"Helvetica,sans-Serif\" font-size=\"14.00\">samples = 104926</text>\n",
       "<text text-anchor=\"middle\" x=\"829.12\" y=\"-22.95\" font-family=\"Helvetica,sans-Serif\" font-size=\"14.00\">value = [103990, 936]</text>\n",
       "<text text-anchor=\"middle\" x=\"829.12\" y=\"-7.95\" font-family=\"Helvetica,sans-Serif\" font-size=\"14.00\">class = 비이탈</text>\n",
       "</g>\n",
       "<!-- 10&#45;&gt;11 -->\n",
       "<g id=\"edge11\" class=\"edge\">\n",
       "<title>10&#45;&gt;11</title>\n",
       "<path fill=\"none\" stroke=\"black\" d=\"M846.62,-105.95C844.64,-98.03 842.55,-89.72 840.54,-81.7\"/>\n",
       "<polygon fill=\"black\" stroke=\"black\" points=\"843.96,-80.95 838.14,-72.1 837.17,-82.65 843.96,-80.95\"/>\n",
       "</g>\n",
       "<!-- 12 -->\n",
       "<g id=\"node13\" class=\"node\">\n",
       "<title>12</title>\n",
       "<path fill=\"#e78c4b\" stroke=\"black\" d=\"M1025.38,-70.25C1025.38,-70.25 932.88,-70.25 932.88,-70.25 926.88,-70.25 920.88,-64.25 920.88,-58.25 920.88,-58.25 920.88,-12 920.88,-12 920.88,-6 926.88,0 932.88,0 932.88,0 1025.38,0 1025.38,0 1031.38,0 1037.38,-6 1037.38,-12 1037.38,-12 1037.38,-58.25 1037.38,-58.25 1037.38,-64.25 1031.38,-70.25 1025.38,-70.25\"/>\n",
       "<text text-anchor=\"middle\" x=\"979.12\" y=\"-52.95\" font-family=\"Helvetica,sans-Serif\" font-size=\"14.00\">gini = 0.15</text>\n",
       "<text text-anchor=\"middle\" x=\"979.12\" y=\"-37.95\" font-family=\"Helvetica,sans-Serif\" font-size=\"14.00\">samples = 685</text>\n",
       "<text text-anchor=\"middle\" x=\"979.12\" y=\"-22.95\" font-family=\"Helvetica,sans-Serif\" font-size=\"14.00\">value = [629, 56]</text>\n",
       "<text text-anchor=\"middle\" x=\"979.12\" y=\"-7.95\" font-family=\"Helvetica,sans-Serif\" font-size=\"14.00\">class = 비이탈</text>\n",
       "</g>\n",
       "<!-- 10&#45;&gt;12 -->\n",
       "<g id=\"edge12\" class=\"edge\">\n",
       "<title>10&#45;&gt;12</title>\n",
       "<path fill=\"none\" stroke=\"black\" d=\"M902.9,-105.95C912.73,-96.94 923.13,-87.42 932.97,-78.4\"/>\n",
       "<polygon fill=\"black\" stroke=\"black\" points=\"935.33,-80.99 940.34,-71.65 930.6,-75.83 935.33,-80.99\"/>\n",
       "</g>\n",
       "</g>\n",
       "</svg>\n"
      ],
      "text/plain": [
       "<graphviz.sources.Source at 0x14ad32c30>"
      ]
     },
     "execution_count": 37,
     "metadata": {},
     "output_type": "execute_result"
    }
   ],
   "source": [
    "from sklearn.tree import export_graphviz\n",
    "from graphviz import Source\n",
    "\n",
    "# 시각화용 파이프라인에서 실제 모델 추출\n",
    "tree_model = tree3.named_steps['model']  \n",
    "\n",
    "# 전처리 후 특성 이름 추출\n",
    "feature_names = preprocessor.get_feature_names_out()\n",
    "\n",
    "\n",
    "src = export_graphviz(\n",
    "    tree_model,\n",
    "    feature_names=feature_names,\n",
    "    class_names=['비이탈', '이탈'], \n",
    "    filled=True,\n",
    "    rounded=True,\n",
    "    max_depth=5\n",
    ")\n",
    "\n",
    "\n",
    "graph = Source(src)\n",
    "graph.render(\"decision_tree\", format=\"png\", cleanup=False)  # 파일로 저장도 가능\n",
    "graph\n"
   ]
  },
  {
   "cell_type": "code",
   "execution_count": null,
   "id": "39d65c77",
   "metadata": {},
   "outputs": [],
   "source": []
  },
  {
   "cell_type": "code",
   "execution_count": 40,
   "id": "51040744",
   "metadata": {},
   "outputs": [
    {
     "data": {
      "image/svg+xml": [
       "<?xml version=\"1.0\" encoding=\"UTF-8\" standalone=\"no\"?>\n",
       "<!DOCTYPE svg PUBLIC \"-//W3C//DTD SVG 1.1//EN\"\n",
       " \"http://www.w3.org/Graphics/SVG/1.1/DTD/svg11.dtd\">\n",
       "<!-- Generated by graphviz version 12.2.1 (20241206.2353)\n",
       " -->\n",
       "<!-- Title: Tree Pages: 1 -->\n",
       "<svg width=\"641pt\" height=\"321pt\"\n",
       " viewBox=\"0.00 0.00 641.00 320.75\" xmlns=\"http://www.w3.org/2000/svg\" xmlns:xlink=\"http://www.w3.org/1999/xlink\">\n",
       "<g id=\"graph0\" class=\"graph\" transform=\"scale(1 1) rotate(0) translate(4 316.75)\">\n",
       "<title>Tree</title>\n",
       "<polygon fill=\"white\" stroke=\"none\" points=\"-4,4 -4,-316.75 637,-316.75 637,4 -4,4\"/>\n",
       "<!-- 0 -->\n",
       "<g id=\"node1\" class=\"node\">\n",
       "<title>0</title>\n",
       "<path fill=\"#e6843d\" stroke=\"black\" d=\"M379.5,-312.75C379.5,-312.75 177.5,-312.75 177.5,-312.75 171.5,-312.75 165.5,-306.75 165.5,-300.75 165.5,-300.75 165.5,-239.5 165.5,-239.5 165.5,-233.5 171.5,-227.5 177.5,-227.5 177.5,-227.5 379.5,-227.5 379.5,-227.5 385.5,-227.5 391.5,-233.5 391.5,-239.5 391.5,-239.5 391.5,-300.75 391.5,-300.75 391.5,-306.75 385.5,-312.75 379.5,-312.75\"/>\n",
       "<text text-anchor=\"middle\" x=\"278.5\" y=\"-295.45\" font-family=\"Helvetica,sans-Serif\" font-size=\"14.00\">cat__APR MDC Description &lt;= 0.5</text>\n",
       "<text text-anchor=\"middle\" x=\"278.5\" y=\"-280.45\" font-family=\"Helvetica,sans-Serif\" font-size=\"14.00\">gini = 0.043</text>\n",
       "<text text-anchor=\"middle\" x=\"278.5\" y=\"-265.45\" font-family=\"Helvetica,sans-Serif\" font-size=\"14.00\">samples = 130995</text>\n",
       "<text text-anchor=\"middle\" x=\"278.5\" y=\"-250.45\" font-family=\"Helvetica,sans-Serif\" font-size=\"14.00\">value = [128149, 2846]</text>\n",
       "<text text-anchor=\"middle\" x=\"278.5\" y=\"-235.45\" font-family=\"Helvetica,sans-Serif\" font-size=\"14.00\">class = 비이탈</text>\n",
       "</g>\n",
       "<!-- 1 -->\n",
       "<g id=\"node2\" class=\"node\">\n",
       "<title>1</title>\n",
       "<path fill=\"#eb9e66\" stroke=\"black\" d=\"M257,-191.5C257,-191.5 76,-191.5 76,-191.5 70,-191.5 64,-185.5 64,-179.5 64,-179.5 64,-118.25 64,-118.25 64,-112.25 70,-106.25 76,-106.25 76,-106.25 257,-106.25 257,-106.25 263,-106.25 269,-112.25 269,-118.25 269,-118.25 269,-179.5 269,-179.5 269,-185.5 263,-191.5 257,-191.5\"/>\n",
       "<text text-anchor=\"middle\" x=\"166.5\" y=\"-174.2\" font-family=\"Helvetica,sans-Serif\" font-size=\"14.00\">cat__APR DRG Code &lt;= 282.5</text>\n",
       "<text text-anchor=\"middle\" x=\"166.5\" y=\"-159.2\" font-family=\"Helvetica,sans-Serif\" font-size=\"14.00\">gini = 0.302</text>\n",
       "<text text-anchor=\"middle\" x=\"166.5\" y=\"-144.2\" font-family=\"Helvetica,sans-Serif\" font-size=\"14.00\">samples = 4595</text>\n",
       "<text text-anchor=\"middle\" x=\"166.5\" y=\"-129.2\" font-family=\"Helvetica,sans-Serif\" font-size=\"14.00\">value = [3742, 853]</text>\n",
       "<text text-anchor=\"middle\" x=\"166.5\" y=\"-114.2\" font-family=\"Helvetica,sans-Serif\" font-size=\"14.00\">class = 비이탈</text>\n",
       "</g>\n",
       "<!-- 0&#45;&gt;1 -->\n",
       "<g id=\"edge1\" class=\"edge\">\n",
       "<title>0&#45;&gt;1</title>\n",
       "<path fill=\"none\" stroke=\"black\" d=\"M239.01,-227.08C230.82,-218.35 222.1,-209.07 213.66,-200.09\"/>\n",
       "<polygon fill=\"black\" stroke=\"black\" points=\"216.44,-197.94 207.04,-193.04 211.34,-202.73 216.44,-197.94\"/>\n",
       "<text text-anchor=\"middle\" x=\"205.22\" y=\"-211.13\" font-family=\"Helvetica,sans-Serif\" font-size=\"14.00\">True</text>\n",
       "</g>\n",
       "<!-- 4 -->\n",
       "<g id=\"node5\" class=\"node\">\n",
       "<title>4</title>\n",
       "<path fill=\"#e5833c\" stroke=\"black\" d=\"M482.12,-191.5C482.12,-191.5 298.88,-191.5 298.88,-191.5 292.88,-191.5 286.88,-185.5 286.88,-179.5 286.88,-179.5 286.88,-118.25 286.88,-118.25 286.88,-112.25 292.88,-106.25 298.88,-106.25 298.88,-106.25 482.12,-106.25 482.12,-106.25 488.12,-106.25 494.12,-112.25 494.12,-118.25 494.12,-118.25 494.12,-179.5 494.12,-179.5 494.12,-185.5 488.12,-191.5 482.12,-191.5\"/>\n",
       "<text text-anchor=\"middle\" x=\"390.5\" y=\"-174.2\" font-family=\"Helvetica,sans-Serif\" font-size=\"14.00\">num__Length of Stay &lt;= &#45;0.511</text>\n",
       "<text text-anchor=\"middle\" x=\"390.5\" y=\"-159.2\" font-family=\"Helvetica,sans-Serif\" font-size=\"14.00\">gini = 0.031</text>\n",
       "<text text-anchor=\"middle\" x=\"390.5\" y=\"-144.2\" font-family=\"Helvetica,sans-Serif\" font-size=\"14.00\">samples = 126400</text>\n",
       "<text text-anchor=\"middle\" x=\"390.5\" y=\"-129.2\" font-family=\"Helvetica,sans-Serif\" font-size=\"14.00\">value = [124407.0, 1993.0]</text>\n",
       "<text text-anchor=\"middle\" x=\"390.5\" y=\"-114.2\" font-family=\"Helvetica,sans-Serif\" font-size=\"14.00\">class = 비이탈</text>\n",
       "</g>\n",
       "<!-- 0&#45;&gt;4 -->\n",
       "<g id=\"edge4\" class=\"edge\">\n",
       "<title>0&#45;&gt;4</title>\n",
       "<path fill=\"none\" stroke=\"black\" d=\"M317.99,-227.08C326.18,-218.35 334.9,-209.07 343.34,-200.09\"/>\n",
       "<polygon fill=\"black\" stroke=\"black\" points=\"345.66,-202.73 349.96,-193.04 340.56,-197.94 345.66,-202.73\"/>\n",
       "<text text-anchor=\"middle\" x=\"351.78\" y=\"-211.13\" font-family=\"Helvetica,sans-Serif\" font-size=\"14.00\">False</text>\n",
       "</g>\n",
       "<!-- 2 -->\n",
       "<g id=\"node3\" class=\"node\">\n",
       "<title>2</title>\n",
       "<path fill=\"#399de5\" stroke=\"black\" d=\"M97,-70.25C97,-70.25 12,-70.25 12,-70.25 6,-70.25 0,-64.25 0,-58.25 0,-58.25 0,-12 0,-12 0,-6 6,0 12,0 12,0 97,0 97,0 103,0 109,-6 109,-12 109,-12 109,-58.25 109,-58.25 109,-64.25 103,-70.25 97,-70.25\"/>\n",
       "<text text-anchor=\"middle\" x=\"54.5\" y=\"-52.95\" font-family=\"Helvetica,sans-Serif\" font-size=\"14.00\">gini = 0.002</text>\n",
       "<text text-anchor=\"middle\" x=\"54.5\" y=\"-37.95\" font-family=\"Helvetica,sans-Serif\" font-size=\"14.00\">samples = 854</text>\n",
       "<text text-anchor=\"middle\" x=\"54.5\" y=\"-22.95\" font-family=\"Helvetica,sans-Serif\" font-size=\"14.00\">value = [1, 853]</text>\n",
       "<text text-anchor=\"middle\" x=\"54.5\" y=\"-7.95\" font-family=\"Helvetica,sans-Serif\" font-size=\"14.00\">class = 이탈</text>\n",
       "</g>\n",
       "<!-- 1&#45;&gt;2 -->\n",
       "<g id=\"edge2\" class=\"edge\">\n",
       "<title>1&#45;&gt;2</title>\n",
       "<path fill=\"none\" stroke=\"black\" d=\"M124.48,-105.95C115.54,-97.03 106.1,-87.61 97.14,-78.67\"/>\n",
       "<polygon fill=\"black\" stroke=\"black\" points=\"99.7,-76.28 90.15,-71.7 94.76,-81.24 99.7,-76.28\"/>\n",
       "</g>\n",
       "<!-- 3 -->\n",
       "<g id=\"node4\" class=\"node\">\n",
       "<title>3</title>\n",
       "<path fill=\"#e58139\" stroke=\"black\" d=\"M231.75,-70.25C231.75,-70.25 139.25,-70.25 139.25,-70.25 133.25,-70.25 127.25,-64.25 127.25,-58.25 127.25,-58.25 127.25,-12 127.25,-12 127.25,-6 133.25,0 139.25,0 139.25,0 231.75,0 231.75,0 237.75,0 243.75,-6 243.75,-12 243.75,-12 243.75,-58.25 243.75,-58.25 243.75,-64.25 237.75,-70.25 231.75,-70.25\"/>\n",
       "<text text-anchor=\"middle\" x=\"185.5\" y=\"-52.95\" font-family=\"Helvetica,sans-Serif\" font-size=\"14.00\">gini = 0.0</text>\n",
       "<text text-anchor=\"middle\" x=\"185.5\" y=\"-37.95\" font-family=\"Helvetica,sans-Serif\" font-size=\"14.00\">samples = 3741</text>\n",
       "<text text-anchor=\"middle\" x=\"185.5\" y=\"-22.95\" font-family=\"Helvetica,sans-Serif\" font-size=\"14.00\">value = [3741, 0]</text>\n",
       "<text text-anchor=\"middle\" x=\"185.5\" y=\"-7.95\" font-family=\"Helvetica,sans-Serif\" font-size=\"14.00\">class = 비이탈</text>\n",
       "</g>\n",
       "<!-- 1&#45;&gt;3 -->\n",
       "<g id=\"edge3\" class=\"edge\">\n",
       "<title>1&#45;&gt;3</title>\n",
       "<path fill=\"none\" stroke=\"black\" d=\"M173.63,-105.95C174.96,-98.12 176.36,-89.91 177.7,-81.98\"/>\n",
       "<polygon fill=\"black\" stroke=\"black\" points=\"181.15,-82.57 179.38,-72.12 174.25,-81.39 181.15,-82.57\"/>\n",
       "</g>\n",
       "<!-- 5 -->\n",
       "<g id=\"node6\" class=\"node\">\n",
       "<title>5</title>\n",
       "<path fill=\"#e68743\" stroke=\"black\" d=\"M433.75,-70.25C433.75,-70.25 311.25,-70.25 311.25,-70.25 305.25,-70.25 299.25,-64.25 299.25,-58.25 299.25,-58.25 299.25,-12 299.25,-12 299.25,-6 305.25,0 311.25,0 311.25,0 433.75,0 433.75,0 439.75,0 445.75,-6 445.75,-12 445.75,-12 445.75,-58.25 445.75,-58.25 445.75,-64.25 439.75,-70.25 433.75,-70.25\"/>\n",
       "<text text-anchor=\"middle\" x=\"372.5\" y=\"-52.95\" font-family=\"Helvetica,sans-Serif\" font-size=\"14.00\">gini = 0.092</text>\n",
       "<text text-anchor=\"middle\" x=\"372.5\" y=\"-37.95\" font-family=\"Helvetica,sans-Serif\" font-size=\"14.00\">samples = 20789</text>\n",
       "<text text-anchor=\"middle\" x=\"372.5\" y=\"-22.95\" font-family=\"Helvetica,sans-Serif\" font-size=\"14.00\">value = [19788, 1001]</text>\n",
       "<text text-anchor=\"middle\" x=\"372.5\" y=\"-7.95\" font-family=\"Helvetica,sans-Serif\" font-size=\"14.00\">class = 비이탈</text>\n",
       "</g>\n",
       "<!-- 4&#45;&gt;5 -->\n",
       "<g id=\"edge5\" class=\"edge\">\n",
       "<title>4&#45;&gt;5</title>\n",
       "<path fill=\"none\" stroke=\"black\" d=\"M383.75,-105.95C382.49,-98.12 381.16,-89.91 379.89,-81.98\"/>\n",
       "<polygon fill=\"black\" stroke=\"black\" points=\"383.34,-81.44 378.3,-72.12 376.43,-82.55 383.34,-81.44\"/>\n",
       "</g>\n",
       "<!-- 6 -->\n",
       "<g id=\"node7\" class=\"node\">\n",
       "<title>6</title>\n",
       "<path fill=\"#e5823b\" stroke=\"black\" d=\"M621,-70.25C621,-70.25 476,-70.25 476,-70.25 470,-70.25 464,-64.25 464,-58.25 464,-58.25 464,-12 464,-12 464,-6 470,0 476,0 476,0 621,0 621,0 627,0 633,-6 633,-12 633,-12 633,-58.25 633,-58.25 633,-64.25 627,-70.25 621,-70.25\"/>\n",
       "<text text-anchor=\"middle\" x=\"548.5\" y=\"-52.95\" font-family=\"Helvetica,sans-Serif\" font-size=\"14.00\">gini = 0.019</text>\n",
       "<text text-anchor=\"middle\" x=\"548.5\" y=\"-37.95\" font-family=\"Helvetica,sans-Serif\" font-size=\"14.00\">samples = 105611</text>\n",
       "<text text-anchor=\"middle\" x=\"548.5\" y=\"-22.95\" font-family=\"Helvetica,sans-Serif\" font-size=\"14.00\">value = [104619.0, 992.0]</text>\n",
       "<text text-anchor=\"middle\" x=\"548.5\" y=\"-7.95\" font-family=\"Helvetica,sans-Serif\" font-size=\"14.00\">class = 비이탈</text>\n",
       "</g>\n",
       "<!-- 4&#45;&gt;6 -->\n",
       "<g id=\"edge6\" class=\"edge\">\n",
       "<title>4&#45;&gt;6</title>\n",
       "<path fill=\"none\" stroke=\"black\" d=\"M449.78,-105.95C463.16,-96.49 477.34,-86.46 490.65,-77.04\"/>\n",
       "<polygon fill=\"black\" stroke=\"black\" points=\"492.34,-80.14 498.48,-71.5 488.29,-74.42 492.34,-80.14\"/>\n",
       "</g>\n",
       "</g>\n",
       "</svg>\n"
      ],
      "text/plain": [
       "<graphviz.sources.Source at 0x32f8f7320>"
      ]
     },
     "execution_count": 40,
     "metadata": {},
     "output_type": "execute_result"
    }
   ],
   "source": [
    "from sklearn.tree import export_graphviz\n",
    "from graphviz import Source\n",
    "\n",
    "# 1. 파이프라인에서 DecisionTreeClassifier만 추출\n",
    "tree_model = tree2.named_steps['model']\n",
    "\n",
    "# 2. 전처리 후의 실제 feature 이름 가져오기\n",
    "feature_names = tree2.named_steps['preprocessor'].get_feature_names_out()\n",
    "\n",
    "# 3. export_graphviz로 dot 코드 생성\n",
    "src = export_graphviz(\n",
    "    decision_tree=tree_model,\n",
    "    feature_names=feature_names,\n",
    "    class_names=['비이탈', '이탈'],  # 0: 비이탈, 1: 이탈\n",
    "    filled=True,\n",
    "    rounded=True,\n",
    "    max_depth=3  # 시각화 범위 제한 (선택)\n",
    ")\n",
    "\n",
    "# 4. graphviz로 시각화\n",
    "graph = Source(src)\n",
    "graph"
   ]
  },
  {
   "cell_type": "code",
   "execution_count": null,
   "id": "9fd59759",
   "metadata": {},
   "outputs": [],
   "source": [
    "최적의 하이퍼파라미터 찾기 \n",
    "\n",
    "최적의 max_depth 찾기 "
   ]
  },
  {
   "cell_type": "code",
   "execution_count": 42,
   "id": "93a45035",
   "metadata": {},
   "outputs": [
    {
     "name": "stdout",
     "output_type": "stream",
     "text": [
      "max_depth: 1 | Train Acc: 0.9783, Test Acc: 0.9782\n",
      "max_depth: 2 | Train Acc: 0.9848, Test Acc: 0.9844\n",
      "max_depth: 3 | Train Acc: 0.9848, Test Acc: 0.9844\n",
      "max_depth: 4 | Train Acc: 0.9848, Test Acc: 0.9844\n",
      "max_depth: 5 | Train Acc: 0.9848, Test Acc: 0.9844\n",
      "max_depth: 6 | Train Acc: 0.9848, Test Acc: 0.9844\n",
      "max_depth: 7 | Train Acc: 0.9849, Test Acc: 0.9844\n",
      "max_depth: 8 | Train Acc: 0.9850, Test Acc: 0.9844\n",
      "max_depth: 9 | Train Acc: 0.9851, Test Acc: 0.9840\n",
      "max_depth: 10 | Train Acc: 0.9854, Test Acc: 0.9847\n"
     ]
    }
   ],
   "source": [
    "# max_depth 는 작을 수록 규제를 강하게 한다. \n",
    "## \"규제를 강하게 한다.\" 의미: 모델의 복잡도를 낮추는 방향으로 학습시키는 것.\n",
    "\n",
    "from sklearn.tree import DecisionTreeClassifier\n",
    "from sklearn.pipeline import Pipeline\n",
    "from sklearn.metrics import accuracy_score\n",
    "import matplotlib.pyplot as plt\n",
    "\n",
    "# 후보 max_depth 값\n",
    "max_depth_list = range(1, 11)\n",
    "\n",
    "# 결과 저장용 리스트\n",
    "train_acc_list = []\n",
    "test_acc_list = []\n",
    "\n",
    "# 반복하면서 max_depth별 모델 학습 및 평가\n",
    "for max_depth in max_depth_list:\n",
    "    # 전처리 + 모델 파이프라인 구성\n",
    "    pipeline = Pipeline([\n",
    "        ('preprocessor', preprocessor),  # Tree 기반이므로 preprocessor 사용\n",
    "        ('model', DecisionTreeClassifier(max_depth=max_depth, random_state=0))\n",
    "    ])\n",
    "    \n",
    "    # 학습\n",
    "    pipeline.fit(X_train, y_train)\n",
    "    \n",
    "    # 예측\n",
    "    pred_train = pipeline.predict(X_train)\n",
    "    pred_test = pipeline.predict(X_test)\n",
    "    \n",
    "    # 정확도 계산\n",
    "    train_acc = accuracy_score(y_train, pred_train)\n",
    "    test_acc = accuracy_score(y_test, pred_test)\n",
    "\n",
    "    # 저장\n",
    "    train_acc_list.append(train_acc)\n",
    "    test_acc_list.append(test_acc)\n",
    "\n",
    "    print(f\"max_depth: {max_depth} | Train Acc: {train_acc:.4f}, Test Acc: {test_acc:.4f}\")\n"
   ]
  },
  {
   "cell_type": "code",
   "execution_count": 43,
   "id": "e1e02705",
   "metadata": {},
   "outputs": [
    {
     "data": {
      "text/plain": [
       "[0.9782739799228978,\n",
       " 0.9847780449635483,\n",
       " 0.984785678842704,\n",
       " 0.984785678842704,\n",
       " 0.9847933127218597,\n",
       " 0.9848009466010154,\n",
       " 0.9848772853925722,\n",
       " 0.9849536241841291,\n",
       " 0.9850834001297759,\n",
       " 0.9854040230543151]"
      ]
     },
     "execution_count": 43,
     "metadata": {},
     "output_type": "execute_result"
    }
   ],
   "source": [
    "train_acc_list"
   ]
  },
  {
   "cell_type": "code",
   "execution_count": 44,
   "id": "5b821b0b",
   "metadata": {},
   "outputs": [
    {
     "data": {
      "text/plain": [
       "[0.9782442748091603,\n",
       " 0.9843511450381679,\n",
       " 0.9843511450381679,\n",
       " 0.9843511450381679,\n",
       " 0.9843511450381679,\n",
       " 0.9843511450381679,\n",
       " 0.9843511450381679,\n",
       " 0.9843511450381679,\n",
       " 0.983969465648855,\n",
       " 0.9847328244274809]"
      ]
     },
     "execution_count": 44,
     "metadata": {},
     "output_type": "execute_result"
    }
   ],
   "source": [
    "test_acc_list"
   ]
  },
  {
   "cell_type": "code",
   "execution_count": 46,
   "id": "1f4b5c13",
   "metadata": {},
   "outputs": [
    {
     "data": {
      "text/html": [
       "<div>\n",
       "<style scoped>\n",
       "    .dataframe tbody tr th:only-of-type {\n",
       "        vertical-align: middle;\n",
       "    }\n",
       "\n",
       "    .dataframe tbody tr th {\n",
       "        vertical-align: top;\n",
       "    }\n",
       "\n",
       "    .dataframe thead th {\n",
       "        text-align: right;\n",
       "    }\n",
       "</style>\n",
       "<table border=\"1\" class=\"dataframe\">\n",
       "  <thead>\n",
       "    <tr style=\"text-align: right;\">\n",
       "      <th></th>\n",
       "      <th>max depth</th>\n",
       "      <th>train acc</th>\n",
       "      <th>test acc</th>\n",
       "    </tr>\n",
       "  </thead>\n",
       "  <tbody>\n",
       "    <tr>\n",
       "      <th>0</th>\n",
       "      <td>1</td>\n",
       "      <td>0.978274</td>\n",
       "      <td>0.978244</td>\n",
       "    </tr>\n",
       "    <tr>\n",
       "      <th>1</th>\n",
       "      <td>2</td>\n",
       "      <td>0.984778</td>\n",
       "      <td>0.984351</td>\n",
       "    </tr>\n",
       "    <tr>\n",
       "      <th>2</th>\n",
       "      <td>3</td>\n",
       "      <td>0.984786</td>\n",
       "      <td>0.984351</td>\n",
       "    </tr>\n",
       "    <tr>\n",
       "      <th>3</th>\n",
       "      <td>4</td>\n",
       "      <td>0.984786</td>\n",
       "      <td>0.984351</td>\n",
       "    </tr>\n",
       "    <tr>\n",
       "      <th>4</th>\n",
       "      <td>5</td>\n",
       "      <td>0.984793</td>\n",
       "      <td>0.984351</td>\n",
       "    </tr>\n",
       "    <tr>\n",
       "      <th>5</th>\n",
       "      <td>6</td>\n",
       "      <td>0.984801</td>\n",
       "      <td>0.984351</td>\n",
       "    </tr>\n",
       "    <tr>\n",
       "      <th>6</th>\n",
       "      <td>7</td>\n",
       "      <td>0.984877</td>\n",
       "      <td>0.984351</td>\n",
       "    </tr>\n",
       "    <tr>\n",
       "      <th>7</th>\n",
       "      <td>8</td>\n",
       "      <td>0.984954</td>\n",
       "      <td>0.984351</td>\n",
       "    </tr>\n",
       "    <tr>\n",
       "      <th>8</th>\n",
       "      <td>9</td>\n",
       "      <td>0.985083</td>\n",
       "      <td>0.983969</td>\n",
       "    </tr>\n",
       "    <tr>\n",
       "      <th>9</th>\n",
       "      <td>10</td>\n",
       "      <td>0.985404</td>\n",
       "      <td>0.984733</td>\n",
       "    </tr>\n",
       "  </tbody>\n",
       "</table>\n",
       "</div>"
      ],
      "text/plain": [
       "   max depth  train acc  test acc\n",
       "0          1   0.978274  0.978244\n",
       "1          2   0.984778  0.984351\n",
       "2          3   0.984786  0.984351\n",
       "3          4   0.984786  0.984351\n",
       "4          5   0.984793  0.984351\n",
       "5          6   0.984801  0.984351\n",
       "6          7   0.984877  0.984351\n",
       "7          8   0.984954  0.984351\n",
       "8          9   0.985083  0.983969\n",
       "9         10   0.985404  0.984733"
      ]
     },
     "execution_count": 46,
     "metadata": {},
     "output_type": "execute_result"
    }
   ],
   "source": [
    "import pandas as pd\n",
    "\n",
    "result_df = pd.DataFrame({\n",
    "    \"max depth\": max_depth_list,\n",
    "    \"train acc\": train_acc_list,\n",
    "    \"test acc\": test_acc_list\n",
    "})\n",
    "result_df"
   ]
  },
  {
   "cell_type": "code",
   "execution_count": 45,
   "id": "4361b07a",
   "metadata": {},
   "outputs": [
    {
     "name": "stderr",
     "output_type": "stream",
     "text": [
      "/var/folders/5n/23r0_lzd78l_tlx8j_f6613w0000gn/T/ipykernel_39842/1916921570.py:10: UserWarning: Glyph 50640 (\\N{HANGUL SYLLABLE E}) missing from font(s) DejaVu Sans.\n",
      "  plt.tight_layout()\n",
      "/var/folders/5n/23r0_lzd78l_tlx8j_f6613w0000gn/T/ipykernel_39842/1916921570.py:10: UserWarning: Glyph 46384 (\\N{HANGUL SYLLABLE DDA}) missing from font(s) DejaVu Sans.\n",
      "  plt.tight_layout()\n",
      "/var/folders/5n/23r0_lzd78l_tlx8j_f6613w0000gn/T/ipykernel_39842/1916921570.py:10: UserWarning: Glyph 47480 (\\N{HANGUL SYLLABLE REUN}) missing from font(s) DejaVu Sans.\n",
      "  plt.tight_layout()\n",
      "/var/folders/5n/23r0_lzd78l_tlx8j_f6613w0000gn/T/ipykernel_39842/1916921570.py:10: UserWarning: Glyph 49457 (\\N{HANGUL SYLLABLE SEONG}) missing from font(s) DejaVu Sans.\n",
      "  plt.tight_layout()\n",
      "/var/folders/5n/23r0_lzd78l_tlx8j_f6613w0000gn/T/ipykernel_39842/1916921570.py:10: UserWarning: Glyph 45733 (\\N{HANGUL SYLLABLE NEUNG}) missing from font(s) DejaVu Sans.\n",
      "  plt.tight_layout()\n",
      "/var/folders/5n/23r0_lzd78l_tlx8j_f6613w0000gn/T/ipykernel_39842/1916921570.py:10: UserWarning: Glyph 48708 (\\N{HANGUL SYLLABLE BI}) missing from font(s) DejaVu Sans.\n",
      "  plt.tight_layout()\n",
      "/var/folders/5n/23r0_lzd78l_tlx8j_f6613w0000gn/T/ipykernel_39842/1916921570.py:10: UserWarning: Glyph 44368 (\\N{HANGUL SYLLABLE GYO}) missing from font(s) DejaVu Sans.\n",
      "  plt.tight_layout()\n",
      "/Users/jangjinseul/miniconda3/lib/python3.12/site-packages/IPython/core/pylabtools.py:170: UserWarning: Glyph 50640 (\\N{HANGUL SYLLABLE E}) missing from font(s) DejaVu Sans.\n",
      "  fig.canvas.print_figure(bytes_io, **kw)\n",
      "/Users/jangjinseul/miniconda3/lib/python3.12/site-packages/IPython/core/pylabtools.py:170: UserWarning: Glyph 46384 (\\N{HANGUL SYLLABLE DDA}) missing from font(s) DejaVu Sans.\n",
      "  fig.canvas.print_figure(bytes_io, **kw)\n",
      "/Users/jangjinseul/miniconda3/lib/python3.12/site-packages/IPython/core/pylabtools.py:170: UserWarning: Glyph 47480 (\\N{HANGUL SYLLABLE REUN}) missing from font(s) DejaVu Sans.\n",
      "  fig.canvas.print_figure(bytes_io, **kw)\n",
      "/Users/jangjinseul/miniconda3/lib/python3.12/site-packages/IPython/core/pylabtools.py:170: UserWarning: Glyph 49457 (\\N{HANGUL SYLLABLE SEONG}) missing from font(s) DejaVu Sans.\n",
      "  fig.canvas.print_figure(bytes_io, **kw)\n",
      "/Users/jangjinseul/miniconda3/lib/python3.12/site-packages/IPython/core/pylabtools.py:170: UserWarning: Glyph 45733 (\\N{HANGUL SYLLABLE NEUNG}) missing from font(s) DejaVu Sans.\n",
      "  fig.canvas.print_figure(bytes_io, **kw)\n",
      "/Users/jangjinseul/miniconda3/lib/python3.12/site-packages/IPython/core/pylabtools.py:170: UserWarning: Glyph 48708 (\\N{HANGUL SYLLABLE BI}) missing from font(s) DejaVu Sans.\n",
      "  fig.canvas.print_figure(bytes_io, **kw)\n",
      "/Users/jangjinseul/miniconda3/lib/python3.12/site-packages/IPython/core/pylabtools.py:170: UserWarning: Glyph 44368 (\\N{HANGUL SYLLABLE GYO}) missing from font(s) DejaVu Sans.\n",
      "  fig.canvas.print_figure(bytes_io, **kw)\n"
     ]
    },
    {
     "data": {
      "image/png": "[encoded data removed]",
      "text/plain": [
       "<Figure size 1000x600 with 1 Axes>"
      ]
     },
     "metadata": {},
     "output_type": "display_data"
    }
   ],
   "source": [
    "plt.figure(figsize=(10, 6))\n",
    "plt.plot(max_depth_list, train_acc_list, marker='o', label='Train Accuracy')\n",
    "plt.plot(max_depth_list, test_acc_list, marker='s', label='Test Accuracy')\n",
    "plt.xlabel(\"max_depth\")\n",
    "plt.ylabel(\"Accuracy\")\n",
    "plt.title(\"max_depth에 따른 DecisionTree 성능 비교\")\n",
    "plt.xticks(max_depth_list)\n",
    "plt.grid(True)\n",
    "plt.legend()\n",
    "plt.tight_layout()\n",
    "plt.show()"
   ]
  },
  {
   "cell_type": "code",
   "execution_count": null,
   "id": "2ff5557c",
   "metadata": {},
   "outputs": [],
   "source": [
    "========================================================================="
   ]
  },
  {
   "cell_type": "code",
   "execution_count": null,
   "id": "22393216",
   "metadata": {},
   "outputs": [],
   "source": []
  },
  {
   "cell_type": "code",
   "execution_count": null,
   "id": "40fefbb5",
   "metadata": {},
   "outputs": [],
   "source": []
  },
  {
   "cell_type": "code",
   "execution_count": null,
   "id": "18b5e6be",
   "metadata": {},
   "outputs": [],
   "source": []
  },
  {
   "cell_type": "code",
   "execution_count": null,
   "id": "040c1804",
   "metadata": {},
   "outputs": [],
   "source": []
  },
  {
   "cell_type": "code",
   "execution_count": null,
   "id": "8f14f899",
   "metadata": {},
   "outputs": [],
   "source": []
  },
  {
   "cell_type": "code",
   "execution_count": null,
   "id": "b9a19019",
   "metadata": {},
   "outputs": [],
   "source": [
    "## RandomizedSearchCV\n",
    "\n"
   ]
  },
  {
   "cell_type": "code",
   "execution_count": 50,
   "id": "7b3e982d",
   "metadata": {},
   "outputs": [],
   "source": [
    "# 데이터 셋 분할 \n",
    "\n",
    "from sklearn.model_selection import train_test_split\n",
    "\n",
    "X_train, X_test, y_train, y_test = train_test_split(X, y, stratify=y, random_state=0)"
   ]
  },
  {
   "cell_type": "code",
   "execution_count": null,
   "id": "f3f2bfc1",
   "metadata": {},
   "outputs": [
    {
     "name": "stdout",
     "output_type": "stream",
     "text": [
      "Fitting 4 folds for each of 50 candidates, totalling 200 fits\n"
     ]
    },
    {
     "name": "stderr",
     "output_type": "stream",
     "text": [
      "/Users/jangjinseul/miniconda3/lib/python3.12/site-packages/joblib/externals/loky/process_executor.py:752: UserWarning: A worker stopped while some jobs were given to the executor. This can be caused by a too short worker timeout or by a memory leak.\n",
      "  warnings.warn(\n"
     ]
    },
    {
     "ename": "KeyboardInterrupt",
     "evalue": "",
     "output_type": "error",
     "traceback": [
      "\u001b[0;31m---------------------------------------------------------------------------\u001b[0m",
      "\u001b[0;31mKeyboardInterrupt\u001b[0m                         Traceback (most recent call last)",
      "Cell \u001b[0;32mIn[52], line 30\u001b[0m\n\u001b[1;32m     18\u001b[0m rs \u001b[38;5;241m=\u001b[39m RandomizedSearchCV(\n\u001b[1;32m     19\u001b[0m     estimator\u001b[38;5;241m=\u001b[39mpipeline,\n\u001b[1;32m     20\u001b[0m     param_distributions\u001b[38;5;241m=\u001b[39mparams,\n\u001b[0;32m   (...)\u001b[0m\n\u001b[1;32m     26\u001b[0m     n_jobs\u001b[38;5;241m=\u001b[39m\u001b[38;5;241m-\u001b[39m\u001b[38;5;241m1\u001b[39m\n\u001b[1;32m     27\u001b[0m )\n\u001b[1;32m     29\u001b[0m \u001b[38;5;66;03m# 4. 탐색 시작\u001b[39;00m\n\u001b[0;32m---> 30\u001b[0m rs\u001b[38;5;241m.\u001b[39mfit(X_train, y_train)\n",
      "File \u001b[0;32m~/miniconda3/lib/python3.12/site-packages/sklearn/base.py:1389\u001b[0m, in \u001b[0;36m_fit_context.<locals>.decorator.<locals>.wrapper\u001b[0;34m(estimator, *args, **kwargs)\u001b[0m\n\u001b[1;32m   1382\u001b[0m     estimator\u001b[38;5;241m.\u001b[39m_validate_params()\n\u001b[1;32m   1384\u001b[0m \u001b[38;5;28;01mwith\u001b[39;00m config_context(\n\u001b[1;32m   1385\u001b[0m     skip_parameter_validation\u001b[38;5;241m=\u001b[39m(\n\u001b[1;32m   1386\u001b[0m         prefer_skip_nested_validation \u001b[38;5;129;01mor\u001b[39;00m global_skip_validation\n\u001b[1;32m   1387\u001b[0m     )\n\u001b[1;32m   1388\u001b[0m ):\n\u001b[0;32m-> 1389\u001b[0m     \u001b[38;5;28;01mreturn\u001b[39;00m fit_method(estimator, \u001b[38;5;241m*\u001b[39margs, \u001b[38;5;241m*\u001b[39m\u001b[38;5;241m*\u001b[39mkwargs)\n",
      "File \u001b[0;32m~/miniconda3/lib/python3.12/site-packages/sklearn/model_selection/_search.py:1024\u001b[0m, in \u001b[0;36mBaseSearchCV.fit\u001b[0;34m(self, X, y, **params)\u001b[0m\n\u001b[1;32m   1018\u001b[0m     results \u001b[38;5;241m=\u001b[39m \u001b[38;5;28mself\u001b[39m\u001b[38;5;241m.\u001b[39m_format_results(\n\u001b[1;32m   1019\u001b[0m         all_candidate_params, n_splits, all_out, all_more_results\n\u001b[1;32m   1020\u001b[0m     )\n\u001b[1;32m   1022\u001b[0m     \u001b[38;5;28;01mreturn\u001b[39;00m results\n\u001b[0;32m-> 1024\u001b[0m \u001b[38;5;28mself\u001b[39m\u001b[38;5;241m.\u001b[39m_run_search(evaluate_candidates)\n\u001b[1;32m   1026\u001b[0m \u001b[38;5;66;03m# multimetric is determined here because in the case of a callable\u001b[39;00m\n\u001b[1;32m   1027\u001b[0m \u001b[38;5;66;03m# self.scoring the return type is only known after calling\u001b[39;00m\n\u001b[1;32m   1028\u001b[0m first_test_score \u001b[38;5;241m=\u001b[39m all_out[\u001b[38;5;241m0\u001b[39m][\u001b[38;5;124m\"\u001b[39m\u001b[38;5;124mtest_scores\u001b[39m\u001b[38;5;124m\"\u001b[39m]\n",
      "File \u001b[0;32m~/miniconda3/lib/python3.12/site-packages/sklearn/model_selection/_search.py:1951\u001b[0m, in \u001b[0;36mRandomizedSearchCV._run_search\u001b[0;34m(self, evaluate_candidates)\u001b[0m\n\u001b[1;32m   1949\u001b[0m \u001b[38;5;28;01mdef\u001b[39;00m \u001b[38;5;21m_run_search\u001b[39m(\u001b[38;5;28mself\u001b[39m, evaluate_candidates):\n\u001b[1;32m   1950\u001b[0m \u001b[38;5;250m    \u001b[39m\u001b[38;5;124;03m\"\"\"Search n_iter candidates from param_distributions\"\"\"\u001b[39;00m\n\u001b[0;32m-> 1951\u001b[0m     evaluate_candidates(\n\u001b[1;32m   1952\u001b[0m         ParameterSampler(\n\u001b[1;32m   1953\u001b[0m             \u001b[38;5;28mself\u001b[39m\u001b[38;5;241m.\u001b[39mparam_distributions, \u001b[38;5;28mself\u001b[39m\u001b[38;5;241m.\u001b[39mn_iter, random_state\u001b[38;5;241m=\u001b[39m\u001b[38;5;28mself\u001b[39m\u001b[38;5;241m.\u001b[39mrandom_state\n\u001b[1;32m   1954\u001b[0m         )\n\u001b[1;32m   1955\u001b[0m     )\n",
      "File \u001b[0;32m~/miniconda3/lib/python3.12/site-packages/sklearn/model_selection/_search.py:970\u001b[0m, in \u001b[0;36mBaseSearchCV.fit.<locals>.evaluate_candidates\u001b[0;34m(candidate_params, cv, more_results)\u001b[0m\n\u001b[1;32m    962\u001b[0m \u001b[38;5;28;01mif\u001b[39;00m \u001b[38;5;28mself\u001b[39m\u001b[38;5;241m.\u001b[39mverbose \u001b[38;5;241m>\u001b[39m \u001b[38;5;241m0\u001b[39m:\n\u001b[1;32m    963\u001b[0m     \u001b[38;5;28mprint\u001b[39m(\n\u001b[1;32m    964\u001b[0m         \u001b[38;5;124m\"\u001b[39m\u001b[38;5;124mFitting \u001b[39m\u001b[38;5;132;01m{0}\u001b[39;00m\u001b[38;5;124m folds for each of \u001b[39m\u001b[38;5;132;01m{1}\u001b[39;00m\u001b[38;5;124m candidates,\u001b[39m\u001b[38;5;124m\"\u001b[39m\n\u001b[1;32m    965\u001b[0m         \u001b[38;5;124m\"\u001b[39m\u001b[38;5;124m totalling \u001b[39m\u001b[38;5;132;01m{2}\u001b[39;00m\u001b[38;5;124m fits\u001b[39m\u001b[38;5;124m\"\u001b[39m\u001b[38;5;241m.\u001b[39mformat(\n\u001b[1;32m    966\u001b[0m             n_splits, n_candidates, n_candidates \u001b[38;5;241m*\u001b[39m n_splits\n\u001b[1;32m    967\u001b[0m         )\n\u001b[1;32m    968\u001b[0m     )\n\u001b[0;32m--> 970\u001b[0m out \u001b[38;5;241m=\u001b[39m parallel(\n\u001b[1;32m    971\u001b[0m     delayed(_fit_and_score)(\n\u001b[1;32m    972\u001b[0m         clone(base_estimator),\n\u001b[1;32m    973\u001b[0m         X,\n\u001b[1;32m    974\u001b[0m         y,\n\u001b[1;32m    975\u001b[0m         train\u001b[38;5;241m=\u001b[39mtrain,\n\u001b[1;32m    976\u001b[0m         test\u001b[38;5;241m=\u001b[39mtest,\n\u001b[1;32m    977\u001b[0m         parameters\u001b[38;5;241m=\u001b[39mparameters,\n\u001b[1;32m    978\u001b[0m         split_progress\u001b[38;5;241m=\u001b[39m(split_idx, n_splits),\n\u001b[1;32m    979\u001b[0m         candidate_progress\u001b[38;5;241m=\u001b[39m(cand_idx, n_candidates),\n\u001b[1;32m    980\u001b[0m         \u001b[38;5;241m*\u001b[39m\u001b[38;5;241m*\u001b[39mfit_and_score_kwargs,\n\u001b[1;32m    981\u001b[0m     )\n\u001b[1;32m    982\u001b[0m     \u001b[38;5;28;01mfor\u001b[39;00m (cand_idx, parameters), (split_idx, (train, test)) \u001b[38;5;129;01min\u001b[39;00m product(\n\u001b[1;32m    983\u001b[0m         \u001b[38;5;28menumerate\u001b[39m(candidate_params),\n\u001b[1;32m    984\u001b[0m         \u001b[38;5;28menumerate\u001b[39m(cv\u001b[38;5;241m.\u001b[39msplit(X, y, \u001b[38;5;241m*\u001b[39m\u001b[38;5;241m*\u001b[39mrouted_params\u001b[38;5;241m.\u001b[39msplitter\u001b[38;5;241m.\u001b[39msplit)),\n\u001b[1;32m    985\u001b[0m     )\n\u001b[1;32m    986\u001b[0m )\n\u001b[1;32m    988\u001b[0m \u001b[38;5;28;01mif\u001b[39;00m \u001b[38;5;28mlen\u001b[39m(out) \u001b[38;5;241m<\u001b[39m \u001b[38;5;241m1\u001b[39m:\n\u001b[1;32m    989\u001b[0m     \u001b[38;5;28;01mraise\u001b[39;00m \u001b[38;5;167;01mValueError\u001b[39;00m(\n\u001b[1;32m    990\u001b[0m         \u001b[38;5;124m\"\u001b[39m\u001b[38;5;124mNo fits were performed. \u001b[39m\u001b[38;5;124m\"\u001b[39m\n\u001b[1;32m    991\u001b[0m         \u001b[38;5;124m\"\u001b[39m\u001b[38;5;124mWas the CV iterator empty? \u001b[39m\u001b[38;5;124m\"\u001b[39m\n\u001b[1;32m    992\u001b[0m         \u001b[38;5;124m\"\u001b[39m\u001b[38;5;124mWere there no candidates?\u001b[39m\u001b[38;5;124m\"\u001b[39m\n\u001b[1;32m    993\u001b[0m     )\n",
      "File \u001b[0;32m~/miniconda3/lib/python3.12/site-packages/sklearn/utils/parallel.py:77\u001b[0m, in \u001b[0;36mParallel.__call__\u001b[0;34m(self, iterable)\u001b[0m\n\u001b[1;32m     72\u001b[0m config \u001b[38;5;241m=\u001b[39m get_config()\n\u001b[1;32m     73\u001b[0m iterable_with_config \u001b[38;5;241m=\u001b[39m (\n\u001b[1;32m     74\u001b[0m     (_with_config(delayed_func, config), args, kwargs)\n\u001b[1;32m     75\u001b[0m     \u001b[38;5;28;01mfor\u001b[39;00m delayed_func, args, kwargs \u001b[38;5;129;01min\u001b[39;00m iterable\n\u001b[1;32m     76\u001b[0m )\n\u001b[0;32m---> 77\u001b[0m \u001b[38;5;28;01mreturn\u001b[39;00m \u001b[38;5;28msuper\u001b[39m()\u001b[38;5;241m.\u001b[39m\u001b[38;5;21m__call__\u001b[39m(iterable_with_config)\n",
      "File \u001b[0;32m~/miniconda3/lib/python3.12/site-packages/joblib/parallel.py:2007\u001b[0m, in \u001b[0;36mParallel.__call__\u001b[0;34m(self, iterable)\u001b[0m\n\u001b[1;32m   2001\u001b[0m \u001b[38;5;66;03m# The first item from the output is blank, but it makes the interpreter\u001b[39;00m\n\u001b[1;32m   2002\u001b[0m \u001b[38;5;66;03m# progress until it enters the Try/Except block of the generator and\u001b[39;00m\n\u001b[1;32m   2003\u001b[0m \u001b[38;5;66;03m# reaches the first `yield` statement. This starts the asynchronous\u001b[39;00m\n\u001b[1;32m   2004\u001b[0m \u001b[38;5;66;03m# dispatch of the tasks to the workers.\u001b[39;00m\n\u001b[1;32m   2005\u001b[0m \u001b[38;5;28mnext\u001b[39m(output)\n\u001b[0;32m-> 2007\u001b[0m \u001b[38;5;28;01mreturn\u001b[39;00m output \u001b[38;5;28;01mif\u001b[39;00m \u001b[38;5;28mself\u001b[39m\u001b[38;5;241m.\u001b[39mreturn_generator \u001b[38;5;28;01melse\u001b[39;00m \u001b[38;5;28mlist\u001b[39m(output)\n",
      "File \u001b[0;32m~/miniconda3/lib/python3.12/site-packages/joblib/parallel.py:1650\u001b[0m, in \u001b[0;36mParallel._get_outputs\u001b[0;34m(self, iterator, pre_dispatch)\u001b[0m\n\u001b[1;32m   1647\u001b[0m     \u001b[38;5;28;01myield\u001b[39;00m\n\u001b[1;32m   1649\u001b[0m     \u001b[38;5;28;01mwith\u001b[39;00m \u001b[38;5;28mself\u001b[39m\u001b[38;5;241m.\u001b[39m_backend\u001b[38;5;241m.\u001b[39mretrieval_context():\n\u001b[0;32m-> 1650\u001b[0m         \u001b[38;5;28;01myield from\u001b[39;00m \u001b[38;5;28mself\u001b[39m\u001b[38;5;241m.\u001b[39m_retrieve()\n\u001b[1;32m   1652\u001b[0m \u001b[38;5;28;01mexcept\u001b[39;00m \u001b[38;5;167;01mGeneratorExit\u001b[39;00m:\n\u001b[1;32m   1653\u001b[0m     \u001b[38;5;66;03m# The generator has been garbage collected before being fully\u001b[39;00m\n\u001b[1;32m   1654\u001b[0m     \u001b[38;5;66;03m# consumed. This aborts the remaining tasks if possible and warn\u001b[39;00m\n\u001b[1;32m   1655\u001b[0m     \u001b[38;5;66;03m# the user if necessary.\u001b[39;00m\n\u001b[1;32m   1656\u001b[0m     \u001b[38;5;28mself\u001b[39m\u001b[38;5;241m.\u001b[39m_exception \u001b[38;5;241m=\u001b[39m \u001b[38;5;28;01mTrue\u001b[39;00m\n",
      "File \u001b[0;32m~/miniconda3/lib/python3.12/site-packages/joblib/parallel.py:1762\u001b[0m, in \u001b[0;36mParallel._retrieve\u001b[0;34m(self)\u001b[0m\n\u001b[1;32m   1757\u001b[0m \u001b[38;5;66;03m# If the next job is not ready for retrieval yet, we just wait for\u001b[39;00m\n\u001b[1;32m   1758\u001b[0m \u001b[38;5;66;03m# async callbacks to progress.\u001b[39;00m\n\u001b[1;32m   1759\u001b[0m \u001b[38;5;28;01mif\u001b[39;00m ((\u001b[38;5;28mlen\u001b[39m(\u001b[38;5;28mself\u001b[39m\u001b[38;5;241m.\u001b[39m_jobs) \u001b[38;5;241m==\u001b[39m \u001b[38;5;241m0\u001b[39m) \u001b[38;5;129;01mor\u001b[39;00m\n\u001b[1;32m   1760\u001b[0m     (\u001b[38;5;28mself\u001b[39m\u001b[38;5;241m.\u001b[39m_jobs[\u001b[38;5;241m0\u001b[39m]\u001b[38;5;241m.\u001b[39mget_status(\n\u001b[1;32m   1761\u001b[0m         timeout\u001b[38;5;241m=\u001b[39m\u001b[38;5;28mself\u001b[39m\u001b[38;5;241m.\u001b[39mtimeout) \u001b[38;5;241m==\u001b[39m TASK_PENDING)):\n\u001b[0;32m-> 1762\u001b[0m     time\u001b[38;5;241m.\u001b[39msleep(\u001b[38;5;241m0.01\u001b[39m)\n\u001b[1;32m   1763\u001b[0m     \u001b[38;5;28;01mcontinue\u001b[39;00m\n\u001b[1;32m   1765\u001b[0m \u001b[38;5;66;03m# We need to be careful: the job list can be filling up as\u001b[39;00m\n\u001b[1;32m   1766\u001b[0m \u001b[38;5;66;03m# we empty it and Python list are not thread-safe by\u001b[39;00m\n\u001b[1;32m   1767\u001b[0m \u001b[38;5;66;03m# default hence the use of the lock\u001b[39;00m\n",
      "\u001b[0;31mKeyboardInterrupt\u001b[0m: "
     ]
    }
   ],
   "source": [
    "from sklearn.model_selection import RandomizedSearchCV\n",
    "from sklearn.tree import DecisionTreeClassifier\n",
    "\n",
    "# 1. 파이프라인 정의 (전처리 + 모델)\n",
    "pipeline = Pipeline([\n",
    "    ('preprocessor', preprocessor),  # Tree 기반이므로 preprocessor 사용\n",
    "    ('model', DecisionTreeClassifier(random_state=0))\n",
    "])\n",
    "\n",
    "# 2. 하이퍼파라미터 후보 정의\n",
    "params = {\n",
    "    'model__max_depth': range(1, 11),                      # 트리 깊이\n",
    "    'model__max_leaf_nodes': range(10, 100, 5),            # 리프 노드 수\n",
    "    'model__max_features': np.arange(0.1, 1.1, 0.1),       # 사용할 feature 비율\n",
    "}\n",
    "\n",
    "# 3. RandomizedSearchCV 정의\n",
    "rs = RandomizedSearchCV(\n",
    "    estimator=pipeline,\n",
    "    param_distributions=params,\n",
    "    n_iter=50,                   # 랜덤하게 50개 조합 테스트\n",
    "    scoring='accuracy',         # 정확도 기준\n",
    "    cv=4,                        # 4-fold 교차검증\n",
    "    verbose=1,\n",
    "    random_state=0,\n",
    "    n_jobs=-1\n",
    ")\n",
    "\n",
    "# 4. 탐색 시작\n",
    "rs.fit(X_train, y_train)\n"
   ]
  },
  {
   "cell_type": "code",
   "execution_count": null,
   "id": "df2a59af",
   "metadata": {},
   "outputs": [],
   "source": [
    "print(\"best parameter:\", rs.best_params_)\n",
    "print(\"best score:\", rs.best_score_) "
   ]
  },
  {
   "cell_type": "code",
   "execution_count": null,
   "id": "837781ed",
   "metadata": {},
   "outputs": [],
   "source": [
    "print(\"\\n✅ 최적 하이퍼파라미터:\")\n",
    "print(rs.best_params_)\n",
    "\n",
    "print(f\"📈 Best Accuracy (CV 평균): {rs.best_score_:.4f}\")\n",
    "\n",
    "# 최적 모델 저장\n",
    "best_dt_pipeline = rs.best_estimator_\n"
   ]
  },
  {
   "cell_type": "code",
   "execution_count": null,
   "id": "768ee4ee",
   "metadata": {},
   "outputs": [],
   "source": [
    "import pandas as pd\n",
    "rs_result_df = pd.DataFrame(rs.cv_results_)\n",
    "rs_result_df.sort_values('rank_test_score').head()"
   ]
  },
  {
   "cell_type": "code",
   "execution_count": null,
   "id": "7310f56d",
   "metadata": {},
   "outputs": [],
   "source": [
    "from sklearn.metrics import classification_report, confusion_matrix, ConfusionMatrixDisplay\n",
    "\n",
    "y_pred_dt = best_dt_pipeline.predict(X_test)\n",
    "\n",
    "print(\"\\n📊 Test Set 성능:\")\n",
    "print(classification_report(y_test, y_pred_dt, target_names=[\"비이탈\", \"이탈\"]))\n",
    "\n",
    "cm = confusion_matrix(y_test, y_pred_dt)\n",
    "ConfusionMatrixDisplay(cm, display_labels=[\"비이탈\", \"이탈\"]).plot(cmap=\"Oranges\")\n",
    "plt.title(\"DecisionTree - 최적 모델 혼동행렬\")\n",
    "plt.show()\n"
   ]
  },
  {
   "cell_type": "code",
   "execution_count": null,
   "id": "710a3fc2",
   "metadata": {},
   "outputs": [],
   "source": [
    "rs_result_df.shape"
   ]
  },
  {
   "cell_type": "code",
   "execution_count": null,
   "id": "ad5e3872",
   "metadata": {},
   "outputs": [],
   "source": [
    "# best model 을 이용해 test set 최종평가 \n",
    "best_model = rs.best_estimator_\n",
    "accuracy_score(y_test, best_model.predict(X_test))"
   ]
  },
  {
   "cell_type": "code",
   "execution_count": null,
   "id": "243d4858",
   "metadata": {},
   "outputs": [],
   "source": []
  },
  {
   "cell_type": "code",
   "execution_count": 48,
   "id": "75262fd1",
   "metadata": {},
   "outputs": [
    {
     "name": "stdout",
     "output_type": "stream",
     "text": [
      "Fitting 3 folds for each of 8 candidates, totalling 24 fits\n",
      "✅ Best Parameters: {'model__max_depth': 10, 'model__min_samples_split': 2, 'model__n_estimators': 100}\n",
      "✅ Best F1 Score : 0.461\n",
      "              precision    recall  f1-score   support\n",
      "\n",
      "           0       0.98      1.00      0.99      2563\n",
      "           1       1.00      0.28      0.44        57\n",
      "\n",
      "    accuracy                           0.98      2620\n",
      "   macro avg       0.99      0.64      0.72      2620\n",
      "weighted avg       0.98      0.98      0.98      2620\n",
      "\n"
     ]
    },
    {
     "data": {
      "image/png": "[encoded data removed]",
      "text/plain": [
       "<Figure size 640x480 with 2 Axes>"
      ]
     },
     "metadata": {},
     "output_type": "display_data"
    }
   ],
   "source": [
    "from sklearn.ensemble import RandomForestClassifier\n",
    "from sklearn.metrics import classification_report, confusion_matrix, ConfusionMatrixDisplay\n",
    "import matplotlib.pyplot as plt\n",
    "\n",
    "params_rf = {\n",
    "    'model__n_estimators': [100, 200],\n",
    "    'model__max_depth': [5, 10],\n",
    "    'model__min_samples_split': [2, 5]\n",
    "}\n",
    "\n",
    "best_rf, rf_params, rf_score = get_best_model(\n",
    "    RandomForestClassifier(random_state=0), params_rf, preprocessor, X_train, y_train)\n",
    "\n",
    "y_pred_rf = best_rf.predict(X_test)\n",
    "print(classification_report(y_test, y_pred_rf, zero_division=0))\n",
    "\n",
    "ConfusionMatrixDisplay(confusion_matrix(y_test, y_pred_rf)).plot(cmap=\"Blues\")\n",
    "plt.title(\"Random Forest Confusion Matrix\")\n",
    "plt.show()"
   ]
  },
  {
   "cell_type": "code",
   "execution_count": 49,
   "id": "fa8a2976",
   "metadata": {},
   "outputs": [],
   "source": [
    "from sklearn.pipeline import Pipeline\n",
    "from sklearn.model_selection import GridSearchCV\n",
    "\n",
    "def get_best_model(model, params, preprocessor, X_train, y_train):\n",
    "    pipeline = Pipeline([\n",
    "        ('preprocessor', preprocessor),\n",
    "        ('model', model)\n",
    "    ])\n",
    "\n",
    "    grid = GridSearchCV(pipeline, param_grid=params, scoring='f1', cv=3, verbose=1)\n",
    "    grid.fit(X_train, y_train)\n",
    "\n",
    "    print(\"✅ Best Parameters:\", grid.best_params_)\n",
    "    print(\"✅ Best F1 Score :\", round(grid.best_score_, 4))\n",
    "    return grid.best_estimator_, grid.best_params_, grid.best_score_\n"
   ]
  },
  {
   "cell_type": "code",
   "execution_count": 13,
   "id": "a9d0f2ad",
   "metadata": {},
   "outputs": [],
   "source": [
    "from sklearn.pipeline import Pipeline\n",
    "from sklearn.model_selection import RandomizedSearchCV\n",
    "\n",
    "def get_best_model(model, params, preprocessor, X_train, y_train):\n",
    "    pipeline = Pipeline([\n",
    "        ('preprocessor', preprocessor),\n",
    "        ('model', model)\n",
    "    ])\n",
    "\n",
    "    grid = RandomizedSearchCV(pipeline, param_grid=params, scoring='f1', cv=3, verbose=1)\n",
    "    grid.fit(X_train, y_train)\n",
    "\n",
    "    print(\"✅ Best Parameters:\", grid.best_params_)\n",
    "    print(\"✅ Best F1 Score :\", round(grid.best_score_, 4))\n",
    "    return grid.best_estimator_, grid.best_params_, grid.best_score_\n"
   ]
  },
  {
   "cell_type": "code",
   "execution_count": null,
   "id": "5bd6aeca",
   "metadata": {},
   "outputs": [],
   "source": [
    "from sklearn.ensemble import RandomizedSearchCV\n",
    "from sklearn.metrics import classification_report, confusion_matrix, ConfusionMatrixDisplay\n",
    "import matplotlib.pyplot as plt\n",
    "\n",
    "params_rs = {\n",
    "    'model__n_estimators': [100, 200],\n",
    "    'model__max_depth': [5, 10],\n",
    "    'model__min_samples_split': [2, 5]\n",
    "}\n",
    "\n",
    "best_rs, rs_params, rs_score = get_best_model(\n",
    "    RandomizedSearchCV(random_state=0), params_rf, preprocessor, X_train, y_train)\n",
    "\n",
    "y_pred_rf = best_rf.predict(X_test)\n",
    "print(classification_report(y_test, y_pred_rf, zero_division=0))\n",
    "\n",
    "ConfusionMatrixDisplay(confusion_matrix(y_test, y_pred_rf)).plot(cmap=\"Greens\")\n",
    "plt.title(\"Random Forest Confusion Matrix\")\n",
    "plt.show()"
   ]
  },
  {
   "cell_type": "code",
   "execution_count": null,
   "id": "509ea5ba",
   "metadata": {},
   "outputs": [],
   "source": [
    "# feature importances 찾아보기\n",
    "\n",
    "# Pipeline에서 DecisionTreeClassifier 모델 꺼내기\n",
    "tree_model = best_model.named_steps['model']\n",
    "\n",
    "# 전처리 객체\n",
    "preprocessor_fitted = best_model.named_steps['preprocessor']\n",
    "\n",
    "# 카테고리형 feature (OrdinalEncoder 사용 → feature 이름 그대로 유지)\n",
    "cat_features = preprocessor_fitted.transformers_[0][2]\n",
    "\n",
    "# 수치형 feature\n",
    "num_features = preprocessor_fitted.transformers_[1][2]\n",
    "\n",
    "# 전체 feature 순서 정리\n",
    "feature_names = list(cat_features) + list(num_features)\n",
    "\n",
    "import pandas as pd\n",
    "\n",
    "# 중요도 시리즈 생성 및 정렬\n",
    "importances = pd.Series(tree_model.feature_importances_, index=feature_names)\n",
    "importances = importances.sort_values(ascending=False)\n",
    "\n",
    "# 상위 20개 출력\n",
    "print(importances.head(20))\n",
    "\n",
    "\n",
    "import matplotlib.pyplot as plt\n",
    "\n",
    "plt.figure(figsize=(10, 6))\n",
    "importances.head(20).plot(kind='barh')\n",
    "plt.title(\"Top 20 Feature Importances (Decision Tree)\")\n",
    "plt.gca().invert_yaxis()\n",
    "plt.tight_layout()\n",
    "plt.show()"
   ]
  },
  {
   "cell_type": "code",
   "execution_count": null,
   "id": "0f42d191",
   "metadata": {},
   "outputs": [],
   "source": [
    "# 데이터 셋 분할 \n",
    "\n",
    "from sklearn.model_selection import train_test_split\n",
    "\n",
    "X_train, X_test, y_train, y_test = train_test_split(X, y, stratify=y, random_state=0)"
   ]
  },
  {
   "cell_type": "code",
   "execution_count": null,
   "id": "ec855fc7",
   "metadata": {},
   "outputs": [],
   "source": []
  }
 ],
 "metadata": {
  "kernelspec": {
   "display_name": "base",
   "language": "python",
   "name": "python3"
  },
  "language_info": {
   "codemirror_mode": {
    "name": "ipython",
    "version": 3
   },
   "file_extension": ".py",
   "mimetype": "text/x-python",
   "name": "python",
   "nbconvert_exporter": "python",
   "pygments_lexer": "ipython3",
   "version": "3.12.9"
  }
 },
 "nbformat": 4,
 "nbformat_minor": 5
}
