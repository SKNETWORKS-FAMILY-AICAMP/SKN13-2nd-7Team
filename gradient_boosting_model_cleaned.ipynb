{
 "cells": [
  {
   "cell_type": "markdown",
   "id": "7cea2fae",
   "metadata": {},
   "source": [
    "# Gradient Boosting 모델 튜닝 및 저장"
   ]
  },
  {
   "cell_type": "code",
   "execution_count": null,
   "id": "19c1258c",
   "metadata": {},
   "outputs": [],
   "source": [
    "from sklearn.ensemble import GradientBoostingClassifier\n",
    "from sklearn.model_selection import GridSearchCV\n",
    "from sklearn.pipeline import Pipeline\n",
    "import joblib\n",
    "\n",
    "# 하이퍼파라미터 그리드 설정\n",
    "param_grid = {\n",
    "    'model__n_estimators': [100, 200],\n",
    "    'model__max_depth': [3, 5],\n",
    "    'model__learning_rate': [0.05, 0.1],\n",
    "    'model__subsample': [0.8, 1.0]\n",
    "}\n",
    "\n",
    "# 파이프라인 구성\n",
    "gb_model = Pipeline([\n",
    "    ('preprocessor', preprocessor),\n",
    "    ('model', GradientBoostingClassifier(random_state=42))\n",
    "])\n",
    "\n",
    "# GridSearchCV로 최적의 모델 찾기\n",
    "grid_search = GridSearchCV(gb_model, param_grid, cv=3, scoring='f1', n_jobs=-1)\n",
    "grid_search.fit(X_train, y_train)\n",
    "\n",
    "best_gb_model = grid_search.best_estimator_\n",
    "\n",
    "print(\"Best Parameters:\", grid_search.best_params_)\n",
    "print(\"Best F1 Score (CV):\", grid_search.best_score_)"
   ]
  },
  {
   "cell_type": "code",
   "execution_count": null,
   "id": "b038a4c1",
   "metadata": {},
   "outputs": [],
   "source": [
    "from sklearn.metrics import precision_score, recall_score, f1_score, accuracy_score, roc_auc_score\n",
    "import numpy as np\n",
    "\n",
    "# 확률 예측\n",
    "y_pred_proba_gb = best_gb_model.predict_proba(X_test)[:, 1]\n",
    "\n",
    "# threshold 최적화 (Recall ≥ 0.5)\n",
    "thresholds = np.arange(0.1, 0.95, 0.01)\n",
    "best_threshold = 0\n",
    "best_f1 = 0\n",
    "\n",
    "for t in thresholds:\n",
    "    y_pred = (y_pred_proba_gb >= t).astype(int)\n",
    "    recall = recall_score(y_test, y_pred, zero_division=0)\n",
    "    f1 = f1_score(y_test, y_pred, zero_division=0)\n",
    "    if recall >= 0.5 and f1 > best_f1:\n",
    "        best_f1 = f1\n",
    "        best_threshold = t\n",
    "\n",
    "print(f\"🎯 최적 Threshold: {best_threshold:.2f} (F1={best_f1:.3f})\")"
   ]
  },
  {
   "cell_type": "code",
   "execution_count": null,
   "id": "d4583b4d",
   "metadata": {},
   "outputs": [],
   "source": [
    "# 최종 예측 및 성능 출력\n",
    "y_pred_final = (y_pred_proba_gb >= best_threshold).astype(int)\n",
    "\n",
    "print(\"Accuracy:\", accuracy_score(y_test, y_pred_final))\n",
    "print(\"Precision:\", precision_score(y_test, y_pred_final, zero_division=0))\n",
    "print(\"Recall:\", recall_score(y_test, y_pred_final, zero_division=0))\n",
    "print(\"F1 Score:\", f1_score(y_test, y_pred_final, zero_division=0))\n",
    "print(\"ROC AUC:\", roc_auc_score(y_test, y_pred_proba_gb))"
   ]
  },
  {
   "cell_type": "code",
   "execution_count": null,
   "id": "688e0fec",
   "metadata": {},
   "outputs": [],
   "source": [
    "# 최적 모델과 threshold 저장\n",
    "final_model_package = {\n",
    "    'model': best_gb_model,\n",
    "    'threshold': best_threshold\n",
    "}\n",
    "\n",
    "joblib.dump(final_model_package, 'best_gradient_boosting_model.pkl')\n",
    "print(\"✅ 모델 저장 완료: best_gradient_boosting_model.pkl\")"
   ]
  }
 ],
 "metadata": {},
 "nbformat": 4,
 "nbformat_minor": 5
}
